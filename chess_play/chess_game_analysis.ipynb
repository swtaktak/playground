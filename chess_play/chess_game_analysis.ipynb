{
 "cells": [
  {
   "cell_type": "markdown",
   "id": "54fd722e",
   "metadata": {},
   "source": [
    "# Chess game analysis, 너의 레이팅이 보여"
   ]
  },
  {
   "cell_type": "markdown",
   "id": "c87c38ea",
   "metadata": {},
   "source": [
    "최근에 유튜브 등을 보면서 체스에 관심이 생겨 봇까기를 많이 해왔다.\n",
    "아직 대인전은 해본적 없는데, 체스닷컴에 레이팅이 존재한다고 하는데 몇 가지 궁금점이 생긴다.\n",
    "- 체스닷컴 레이팅 분포는 어떻게 될까?\n",
    "- 레이팅별 흑백 승률은 어떻게 될까?\n",
    "- 레이팅별 선호하는 오프닝이 있을까?\n",
    "- 레이팅별 첫 수는 어떤것을 둘까?\n",
    "- 그외 가지각지 그냥 궁금한 것들 읽어보기"
   ]
  },
  {
   "cell_type": "markdown",
   "id": "38d6967c",
   "metadata": {},
   "source": [
    "오늘은, 어려운 분석은 제쳐두고 가벼운 마음으로 EDA를 하는 그런 시간을 가져보고자 한다.\n",
    "그러면서, 좀 이쁜 시각화도 해보고. 특이한 문제도 도전해보고자 한다."
   ]
  },
  {
   "cell_type": "code",
   "execution_count": 1,
   "id": "3ac3401e",
   "metadata": {},
   "outputs": [],
   "source": [
    "import numpy as np\n",
    "import pandas as pd\n",
    "import matplotlib.pyplot as plt\n",
    "import seaborn as sns"
   ]
  },
  {
   "cell_type": "markdown",
   "id": "dca7e951",
   "metadata": {},
   "source": [
    "체스 닷컴의 약 6만건의 데이터가 담긴 Kaggle의 데이터가 있어 가지고 놀아보자"
   ]
  },
  {
   "cell_type": "code",
   "execution_count": 2,
   "id": "060edefb",
   "metadata": {},
   "outputs": [],
   "source": [
    "df = pd.read_csv('C:/Users/USER/Desktop/playground/chess_play/club_games_data.csv')"
   ]
  },
  {
   "cell_type": "code",
   "execution_count": 3,
   "id": "947eef5b",
   "metadata": {},
   "outputs": [
    {
     "data": {
      "text/html": [
       "<div>\n",
       "<style scoped>\n",
       "    .dataframe tbody tr th:only-of-type {\n",
       "        vertical-align: middle;\n",
       "    }\n",
       "\n",
       "    .dataframe tbody tr th {\n",
       "        vertical-align: top;\n",
       "    }\n",
       "\n",
       "    .dataframe thead th {\n",
       "        text-align: right;\n",
       "    }\n",
       "</style>\n",
       "<table border=\"1\" class=\"dataframe\">\n",
       "  <thead>\n",
       "    <tr style=\"text-align: right;\">\n",
       "      <th></th>\n",
       "      <th>white_username</th>\n",
       "      <th>black_username</th>\n",
       "      <th>white_id</th>\n",
       "      <th>black_id</th>\n",
       "      <th>white_rating</th>\n",
       "      <th>black_rating</th>\n",
       "      <th>white_result</th>\n",
       "      <th>black_result</th>\n",
       "      <th>time_class</th>\n",
       "      <th>time_control</th>\n",
       "      <th>rules</th>\n",
       "      <th>rated</th>\n",
       "      <th>fen</th>\n",
       "      <th>pgn</th>\n",
       "    </tr>\n",
       "  </thead>\n",
       "  <tbody>\n",
       "    <tr>\n",
       "      <th>0</th>\n",
       "      <td>-Amos-</td>\n",
       "      <td>miniman2804</td>\n",
       "      <td>https://api.chess.com/pub/player/-amos-</td>\n",
       "      <td>https://api.chess.com/pub/player/miniman2804</td>\n",
       "      <td>1708</td>\n",
       "      <td>1608</td>\n",
       "      <td>win</td>\n",
       "      <td>checkmated</td>\n",
       "      <td>daily</td>\n",
       "      <td>1/259200</td>\n",
       "      <td>chess</td>\n",
       "      <td>True</td>\n",
       "      <td>r2r4/p2p1p1p/b6R/n1p1kp2/2P2P2/3BP3/PP5P/4K2R ...</td>\n",
       "      <td>[Event \"Enjoyable games 2 - Round 1\"]\\n[Site \"...</td>\n",
       "    </tr>\n",
       "    <tr>\n",
       "      <th>1</th>\n",
       "      <td>-Amos-</td>\n",
       "      <td>koltcho69</td>\n",
       "      <td>https://api.chess.com/pub/player/-amos-</td>\n",
       "      <td>https://api.chess.com/pub/player/koltcho69</td>\n",
       "      <td>1726</td>\n",
       "      <td>1577</td>\n",
       "      <td>win</td>\n",
       "      <td>resigned</td>\n",
       "      <td>daily</td>\n",
       "      <td>1/172800</td>\n",
       "      <td>chess</td>\n",
       "      <td>True</td>\n",
       "      <td>8/5Q1k/4n1pp/8/7P/2N2b2/PP3P2/5K2 b - - 1 33</td>\n",
       "      <td>[Event \"Rapid Rats - Board 5\"]\\n[Site \"Chess.c...</td>\n",
       "    </tr>\n",
       "    <tr>\n",
       "      <th>2</th>\n",
       "      <td>-Amos-</td>\n",
       "      <td>enhmandah</td>\n",
       "      <td>https://api.chess.com/pub/player/-amos-</td>\n",
       "      <td>https://api.chess.com/pub/player/enhmandah</td>\n",
       "      <td>1727</td>\n",
       "      <td>842</td>\n",
       "      <td>win</td>\n",
       "      <td>resigned</td>\n",
       "      <td>daily</td>\n",
       "      <td>1/172800</td>\n",
       "      <td>chess</td>\n",
       "      <td>True</td>\n",
       "      <td>rn1q1b1r/kb2p1pp/2p5/p1Q5/N1BP2n1/4PN2/1P3PPP/...</td>\n",
       "      <td>[Event \"CHESS BOARD CLASH - Round 1\"]\\n[Site \"...</td>\n",
       "    </tr>\n",
       "    <tr>\n",
       "      <th>3</th>\n",
       "      <td>enhmandah</td>\n",
       "      <td>-Amos-</td>\n",
       "      <td>https://api.chess.com/pub/player/enhmandah</td>\n",
       "      <td>https://api.chess.com/pub/player/-amos-</td>\n",
       "      <td>819</td>\n",
       "      <td>1727</td>\n",
       "      <td>checkmated</td>\n",
       "      <td>win</td>\n",
       "      <td>daily</td>\n",
       "      <td>1/172800</td>\n",
       "      <td>chess</td>\n",
       "      <td>True</td>\n",
       "      <td>r3kb1r/pp3ppp/3p1n2/2pKp3/P3P3/1P6/4qP1P/QNB5 ...</td>\n",
       "      <td>[Event \"CHESS BOARD CLASH - Round 1\"]\\n[Site \"...</td>\n",
       "    </tr>\n",
       "    <tr>\n",
       "      <th>4</th>\n",
       "      <td>-Amos-</td>\n",
       "      <td>Shalllow-Blue</td>\n",
       "      <td>https://api.chess.com/pub/player/-amos-</td>\n",
       "      <td>https://api.chess.com/pub/player/shalllow-blue</td>\n",
       "      <td>1729</td>\n",
       "      <td>1116</td>\n",
       "      <td>win</td>\n",
       "      <td>resigned</td>\n",
       "      <td>daily</td>\n",
       "      <td>1/172800</td>\n",
       "      <td>chess</td>\n",
       "      <td>True</td>\n",
       "      <td>r3b2r/pp6/2pPpR1k/4n3/2P3Q1/3B4/PP4PP/R5K1 b -...</td>\n",
       "      <td>[Event \"CHESS BOARD CLASH - Round 1\"]\\n[Site \"...</td>\n",
       "    </tr>\n",
       "  </tbody>\n",
       "</table>\n",
       "</div>"
      ],
      "text/plain": [
       "  white_username black_username                                    white_id  \\\n",
       "0         -Amos-    miniman2804     https://api.chess.com/pub/player/-amos-   \n",
       "1         -Amos-      koltcho69     https://api.chess.com/pub/player/-amos-   \n",
       "2         -Amos-      enhmandah     https://api.chess.com/pub/player/-amos-   \n",
       "3      enhmandah         -Amos-  https://api.chess.com/pub/player/enhmandah   \n",
       "4         -Amos-  Shalllow-Blue     https://api.chess.com/pub/player/-amos-   \n",
       "\n",
       "                                         black_id  white_rating  black_rating  \\\n",
       "0    https://api.chess.com/pub/player/miniman2804          1708          1608   \n",
       "1      https://api.chess.com/pub/player/koltcho69          1726          1577   \n",
       "2      https://api.chess.com/pub/player/enhmandah          1727           842   \n",
       "3         https://api.chess.com/pub/player/-amos-           819          1727   \n",
       "4  https://api.chess.com/pub/player/shalllow-blue          1729          1116   \n",
       "\n",
       "  white_result black_result time_class time_control  rules  rated  \\\n",
       "0          win   checkmated      daily     1/259200  chess   True   \n",
       "1          win     resigned      daily     1/172800  chess   True   \n",
       "2          win     resigned      daily     1/172800  chess   True   \n",
       "3   checkmated          win      daily     1/172800  chess   True   \n",
       "4          win     resigned      daily     1/172800  chess   True   \n",
       "\n",
       "                                                 fen  \\\n",
       "0  r2r4/p2p1p1p/b6R/n1p1kp2/2P2P2/3BP3/PP5P/4K2R ...   \n",
       "1       8/5Q1k/4n1pp/8/7P/2N2b2/PP3P2/5K2 b - - 1 33   \n",
       "2  rn1q1b1r/kb2p1pp/2p5/p1Q5/N1BP2n1/4PN2/1P3PPP/...   \n",
       "3  r3kb1r/pp3ppp/3p1n2/2pKp3/P3P3/1P6/4qP1P/QNB5 ...   \n",
       "4  r3b2r/pp6/2pPpR1k/4n3/2P3Q1/3B4/PP4PP/R5K1 b -...   \n",
       "\n",
       "                                                 pgn  \n",
       "0  [Event \"Enjoyable games 2 - Round 1\"]\\n[Site \"...  \n",
       "1  [Event \"Rapid Rats - Board 5\"]\\n[Site \"Chess.c...  \n",
       "2  [Event \"CHESS BOARD CLASH - Round 1\"]\\n[Site \"...  \n",
       "3  [Event \"CHESS BOARD CLASH - Round 1\"]\\n[Site \"...  \n",
       "4  [Event \"CHESS BOARD CLASH - Round 1\"]\\n[Site \"...  "
      ]
     },
     "execution_count": 3,
     "metadata": {},
     "output_type": "execute_result"
    }
   ],
   "source": [
    "df.head(5)"
   ]
  },
  {
   "cell_type": "markdown",
   "id": "b5ce3937",
   "metadata": {},
   "source": [
    "엥, rule은 무엇일까? 체스닷컴에는 사실 수많은 변형체스의 룰이 존재하기에, 그것을 담은 데이터로 추정된다."
   ]
  },
  {
   "cell_type": "code",
   "execution_count": 4,
   "id": "6f76109e",
   "metadata": {},
   "outputs": [
    {
     "data": {
      "text/plain": [
       "array(['chess', 'chess960', 'threecheck', 'crazyhouse', 'kingofthehill'],\n",
       "      dtype=object)"
      ]
     },
     "execution_count": 4,
     "metadata": {},
     "output_type": "execute_result"
    }
   ],
   "source": [
    "df.rules.unique()"
   ]
  },
  {
   "cell_type": "markdown",
   "id": "af6d037a",
   "metadata": {},
   "source": [
    "딱 걸렸네? chess만 가져오자."
   ]
  },
  {
   "cell_type": "code",
   "execution_count": 5,
   "id": "9580785e",
   "metadata": {},
   "outputs": [
    {
     "name": "stdout",
     "output_type": "stream",
     "text": [
      "65778\n"
     ]
    }
   ],
   "source": [
    "df_chess = df.loc[df.rules == 'chess']\n",
    "print(len(df_chess))"
   ]
  },
  {
   "cell_type": "markdown",
   "id": "354c9fe8",
   "metadata": {},
   "source": [
    "변형 체스는 거의 1000건 정도 밖에 플레이되지 않았음을 알 수 있다. 데이터가 많이 날라가진 않아, 큰 문제는 없어보인다."
   ]
  },
  {
   "cell_type": "markdown",
   "id": "6dfa1733",
   "metadata": {},
   "source": [
    "## 레이팅 분포를 통한 구간 잡기"
   ]
  },
  {
   "cell_type": "markdown",
   "id": "e4a62a33",
   "metadata": {},
   "source": [
    "우선, 가볍게 레이팅의 분포를 살펴보자.\n",
    "GM칼슨이나 GM히카루같은 챔피언급의 플레이어는 레이팅 2800~2900 정도에 분포되어 있다.\n",
    "반면 가장 쉬운 체스봇은 250 정도의 수준으로 정말 누구나 룰만 알면 이길 수 있는 수준의 실력대고, 대인전의 시작 레이팅은 400으로 100 정도면 심해에 해당된다."
   ]
  },
  {
   "cell_type": "code",
   "execution_count": 6,
   "id": "7ff99812",
   "metadata": {},
   "outputs": [
    {
     "name": "stdout",
     "output_type": "stream",
     "text": [
      "131556\n"
     ]
    }
   ],
   "source": [
    "rating_list = list(df_chess['white_rating']) + list(df_chess['black_rating'])\n",
    "print(len(rating_list))"
   ]
  },
  {
   "cell_type": "code",
   "execution_count": 7,
   "id": "8120c49a",
   "metadata": {
    "scrolled": true
   },
   "outputs": [
    {
     "data": {
      "text/plain": [
       "<AxesSubplot:ylabel='Count'>"
      ]
     },
     "execution_count": 7,
     "metadata": {},
     "output_type": "execute_result"
    },
    {
     "data": {
      "image/png": "[encoded data removed]",
      "text/plain": [
       "<Figure size 432x288 with 1 Axes>"
      ]
     },
     "metadata": {
      "needs_background": "light"
     },
     "output_type": "display_data"
    }
   ],
   "source": [
    "sns.histplot(rating_list)"
   ]
  },
  {
   "cell_type": "markdown",
   "id": "01f0a069",
   "metadata": {},
   "source": [
    "대부분의 유저가, 1000~1500 사이에 분포되어 있으며, 1000 이하의 낮은 레이팅을 가진 유저도 많다. 반면, 2000 이상은 적은 편이다."
   ]
  },
  {
   "cell_type": "code",
   "execution_count": 8,
   "id": "7662551a",
   "metadata": {
    "scrolled": false
   },
   "outputs": [
    {
     "name": "stderr",
     "output_type": "stream",
     "text": [
      "C:\\Users\\USER\\anaconda3\\lib\\site-packages\\seaborn\\_decorators.py:36: FutureWarning: Pass the following variable as a keyword arg: x. From version 0.12, the only valid positional argument will be `data`, and passing other arguments without an explicit keyword will result in an error or misinterpretation.\n",
      "  warnings.warn(\n"
     ]
    },
    {
     "data": {
      "text/plain": [
       "<AxesSubplot:>"
      ]
     },
     "execution_count": 8,
     "metadata": {},
     "output_type": "execute_result"
    },
    {
     "data": {
      "image/png": "[encoded data removed]",
      "text/plain": [
       "<Figure size 432x288 with 1 Axes>"
      ]
     },
     "metadata": {
      "needs_background": "light"
     },
     "output_type": "display_data"
    }
   ],
   "source": [
    "sns.boxplot(rating_list)"
   ]
  },
  {
   "cell_type": "markdown",
   "id": "a4d5fd7b",
   "metadata": {},
   "source": [
    "중위값은 약 1000~1500 정도이며, 상위 25%는 1500을 약간 상회하는 정도이다.\n",
    "다만 이것은 전체 유저의 풀이 아닌 해당 데이터가 수집된 정도이므로 전체 유저를 대변한다고 볼 수는 없다.\n",
    "다만 6만건의 데이터이므로 어느정도는 유의미하지 않을까 생각할 수 있다."
   ]
  },
  {
   "cell_type": "markdown",
   "id": "5605e4ef",
   "metadata": {},
   "source": [
    "## 구간을 유의미하게 나누기"
   ]
  },
  {
   "cell_type": "markdown",
   "id": "031962b4",
   "metadata": {},
   "source": [
    "근데 솔직히 이대로 쓰기에는 좀 어렵고 유의미하게 데이터를 나누고 싶은데, 어떻게 해야할까?"
   ]
  },
  {
   "cell_type": "markdown",
   "id": "fcb20aac",
   "metadata": {},
   "source": [
    "* 1) 단순히 100단위로 나눈다. - 구간이 너무 넓다.\n",
    "* 2) 좀 더 크게 나눈다. - 이건 너무 좁지 않은가?\n",
    "* 3) 다른 어떤 요소를 활용해보자"
   ]
  },
  {
   "cell_type": "markdown",
   "id": "9b0f7e6e",
   "metadata": {},
   "source": [
    "다행히 어떤 유명한 사람이 chess의 레이팅을 맞추는 chess guess the elo에서 구간을 나눠둔 것이 있다.\n",
    "이것이 어느정도 유의미한 지표가 되어줄 것이라 생각되어 여기서 나눈 기준을 따라서 분석해보려고 한다."
   ]
  },
  {
   "attachments": {
    "image.png": {
     "image/png": "[encoded data removed]"
    }
   },
   "cell_type": "markdown",
   "id": "a1f7a16e",
   "metadata": {},
   "source": [
    "![image.png](attachment:image.png)"
   ]
  },
  {
   "cell_type": "code",
   "execution_count": 9,
   "id": "ce0bcc2d",
   "metadata": {},
   "outputs": [],
   "source": [
    "def get_chess_grade(x):\n",
    "    if x < 100: return 0\n",
    "    elif x < 600: return 1\n",
    "    elif x < 900: return 2\n",
    "    elif x < 1100 : return 3\n",
    "    elif x < 1300 : return 4\n",
    "    elif x < 1500 : return 5\n",
    "    elif x < 1700 : return 6\n",
    "    elif x < 1900 : return 7\n",
    "    elif x < 2100 : return 8\n",
    "    elif x < 2300 : return 9\n",
    "    elif x < 2500 : return 10\n",
    "    else: return 11"
   ]
  },
  {
   "cell_type": "code",
   "execution_count": 10,
   "id": "f8f009b4",
   "metadata": {},
   "outputs": [
    {
     "name": "stderr",
     "output_type": "stream",
     "text": [
      "C:\\Users\\USER\\anaconda3\\lib\\site-packages\\seaborn\\_decorators.py:36: FutureWarning: Pass the following variable as a keyword arg: x. From version 0.12, the only valid positional argument will be `data`, and passing other arguments without an explicit keyword will result in an error or misinterpretation.\n",
      "  warnings.warn(\n"
     ]
    },
    {
     "data": {
      "text/plain": [
       "<AxesSubplot:ylabel='count'>"
      ]
     },
     "execution_count": 10,
     "metadata": {},
     "output_type": "execute_result"
    },
    {
     "data": {
      "image/png": "[encoded data removed]",
      "text/plain": [
       "<Figure size 432x288 with 1 Axes>"
      ]
     },
     "metadata": {
      "needs_background": "light"
     },
     "output_type": "display_data"
    }
   ],
   "source": [
    "grade_list = [get_chess_grade(x) for x in rating_list]\n",
    "sns.countplot(grade_list)"
   ]
  },
  {
   "cell_type": "markdown",
   "id": "debc1326",
   "metadata": {},
   "source": [
    "다음과 같은 등급 분포를 보이고 있다. 9등급 이상, 즉 레이팅 2100 이상의 비율이 굉장히 낮고 대부분은 900~1500 사이임을 다시 볼 수 있다."
   ]
  },
  {
   "cell_type": "markdown",
   "id": "e0d93aae",
   "metadata": {},
   "source": [
    "## 필요한 정보만 가져오기"
   ]
  },
  {
   "cell_type": "markdown",
   "id": "2398ff47",
   "metadata": {},
   "source": [
    "각 레이팅별로는 어려우니 등급별로 확인하는 것이 유의미할 것이다."
   ]
  },
  {
   "cell_type": "code",
   "execution_count": 11,
   "id": "6950e06f",
   "metadata": {
    "scrolled": true
   },
   "outputs": [
    {
     "data": {
      "text/html": [
       "<div>\n",
       "<style scoped>\n",
       "    .dataframe tbody tr th:only-of-type {\n",
       "        vertical-align: middle;\n",
       "    }\n",
       "\n",
       "    .dataframe tbody tr th {\n",
       "        vertical-align: top;\n",
       "    }\n",
       "\n",
       "    .dataframe thead th {\n",
       "        text-align: right;\n",
       "    }\n",
       "</style>\n",
       "<table border=\"1\" class=\"dataframe\">\n",
       "  <thead>\n",
       "    <tr style=\"text-align: right;\">\n",
       "      <th></th>\n",
       "      <th>white_username</th>\n",
       "      <th>black_username</th>\n",
       "      <th>white_id</th>\n",
       "      <th>black_id</th>\n",
       "      <th>white_rating</th>\n",
       "      <th>black_rating</th>\n",
       "      <th>white_result</th>\n",
       "      <th>black_result</th>\n",
       "      <th>time_class</th>\n",
       "      <th>time_control</th>\n",
       "      <th>rules</th>\n",
       "      <th>rated</th>\n",
       "      <th>fen</th>\n",
       "      <th>pgn</th>\n",
       "    </tr>\n",
       "  </thead>\n",
       "  <tbody>\n",
       "    <tr>\n",
       "      <th>0</th>\n",
       "      <td>-Amos-</td>\n",
       "      <td>miniman2804</td>\n",
       "      <td>https://api.chess.com/pub/player/-amos-</td>\n",
       "      <td>https://api.chess.com/pub/player/miniman2804</td>\n",
       "      <td>1708</td>\n",
       "      <td>1608</td>\n",
       "      <td>win</td>\n",
       "      <td>checkmated</td>\n",
       "      <td>daily</td>\n",
       "      <td>1/259200</td>\n",
       "      <td>chess</td>\n",
       "      <td>True</td>\n",
       "      <td>r2r4/p2p1p1p/b6R/n1p1kp2/2P2P2/3BP3/PP5P/4K2R ...</td>\n",
       "      <td>[Event \"Enjoyable games 2 - Round 1\"]\\n[Site \"...</td>\n",
       "    </tr>\n",
       "    <tr>\n",
       "      <th>1</th>\n",
       "      <td>-Amos-</td>\n",
       "      <td>koltcho69</td>\n",
       "      <td>https://api.chess.com/pub/player/-amos-</td>\n",
       "      <td>https://api.chess.com/pub/player/koltcho69</td>\n",
       "      <td>1726</td>\n",
       "      <td>1577</td>\n",
       "      <td>win</td>\n",
       "      <td>resigned</td>\n",
       "      <td>daily</td>\n",
       "      <td>1/172800</td>\n",
       "      <td>chess</td>\n",
       "      <td>True</td>\n",
       "      <td>8/5Q1k/4n1pp/8/7P/2N2b2/PP3P2/5K2 b - - 1 33</td>\n",
       "      <td>[Event \"Rapid Rats - Board 5\"]\\n[Site \"Chess.c...</td>\n",
       "    </tr>\n",
       "    <tr>\n",
       "      <th>2</th>\n",
       "      <td>-Amos-</td>\n",
       "      <td>enhmandah</td>\n",
       "      <td>https://api.chess.com/pub/player/-amos-</td>\n",
       "      <td>https://api.chess.com/pub/player/enhmandah</td>\n",
       "      <td>1727</td>\n",
       "      <td>842</td>\n",
       "      <td>win</td>\n",
       "      <td>resigned</td>\n",
       "      <td>daily</td>\n",
       "      <td>1/172800</td>\n",
       "      <td>chess</td>\n",
       "      <td>True</td>\n",
       "      <td>rn1q1b1r/kb2p1pp/2p5/p1Q5/N1BP2n1/4PN2/1P3PPP/...</td>\n",
       "      <td>[Event \"CHESS BOARD CLASH - Round 1\"]\\n[Site \"...</td>\n",
       "    </tr>\n",
       "    <tr>\n",
       "      <th>3</th>\n",
       "      <td>enhmandah</td>\n",
       "      <td>-Amos-</td>\n",
       "      <td>https://api.chess.com/pub/player/enhmandah</td>\n",
       "      <td>https://api.chess.com/pub/player/-amos-</td>\n",
       "      <td>819</td>\n",
       "      <td>1727</td>\n",
       "      <td>checkmated</td>\n",
       "      <td>win</td>\n",
       "      <td>daily</td>\n",
       "      <td>1/172800</td>\n",
       "      <td>chess</td>\n",
       "      <td>True</td>\n",
       "      <td>r3kb1r/pp3ppp/3p1n2/2pKp3/P3P3/1P6/4qP1P/QNB5 ...</td>\n",
       "      <td>[Event \"CHESS BOARD CLASH - Round 1\"]\\n[Site \"...</td>\n",
       "    </tr>\n",
       "    <tr>\n",
       "      <th>4</th>\n",
       "      <td>-Amos-</td>\n",
       "      <td>Shalllow-Blue</td>\n",
       "      <td>https://api.chess.com/pub/player/-amos-</td>\n",
       "      <td>https://api.chess.com/pub/player/shalllow-blue</td>\n",
       "      <td>1729</td>\n",
       "      <td>1116</td>\n",
       "      <td>win</td>\n",
       "      <td>resigned</td>\n",
       "      <td>daily</td>\n",
       "      <td>1/172800</td>\n",
       "      <td>chess</td>\n",
       "      <td>True</td>\n",
       "      <td>r3b2r/pp6/2pPpR1k/4n3/2P3Q1/3B4/PP4PP/R5K1 b -...</td>\n",
       "      <td>[Event \"CHESS BOARD CLASH - Round 1\"]\\n[Site \"...</td>\n",
       "    </tr>\n",
       "  </tbody>\n",
       "</table>\n",
       "</div>"
      ],
      "text/plain": [
       "  white_username black_username                                    white_id  \\\n",
       "0         -Amos-    miniman2804     https://api.chess.com/pub/player/-amos-   \n",
       "1         -Amos-      koltcho69     https://api.chess.com/pub/player/-amos-   \n",
       "2         -Amos-      enhmandah     https://api.chess.com/pub/player/-amos-   \n",
       "3      enhmandah         -Amos-  https://api.chess.com/pub/player/enhmandah   \n",
       "4         -Amos-  Shalllow-Blue     https://api.chess.com/pub/player/-amos-   \n",
       "\n",
       "                                         black_id  white_rating  black_rating  \\\n",
       "0    https://api.chess.com/pub/player/miniman2804          1708          1608   \n",
       "1      https://api.chess.com/pub/player/koltcho69          1726          1577   \n",
       "2      https://api.chess.com/pub/player/enhmandah          1727           842   \n",
       "3         https://api.chess.com/pub/player/-amos-           819          1727   \n",
       "4  https://api.chess.com/pub/player/shalllow-blue          1729          1116   \n",
       "\n",
       "  white_result black_result time_class time_control  rules  rated  \\\n",
       "0          win   checkmated      daily     1/259200  chess   True   \n",
       "1          win     resigned      daily     1/172800  chess   True   \n",
       "2          win     resigned      daily     1/172800  chess   True   \n",
       "3   checkmated          win      daily     1/172800  chess   True   \n",
       "4          win     resigned      daily     1/172800  chess   True   \n",
       "\n",
       "                                                 fen  \\\n",
       "0  r2r4/p2p1p1p/b6R/n1p1kp2/2P2P2/3BP3/PP5P/4K2R ...   \n",
       "1       8/5Q1k/4n1pp/8/7P/2N2b2/PP3P2/5K2 b - - 1 33   \n",
       "2  rn1q1b1r/kb2p1pp/2p5/p1Q5/N1BP2n1/4PN2/1P3PPP/...   \n",
       "3  r3kb1r/pp3ppp/3p1n2/2pKp3/P3P3/1P6/4qP1P/QNB5 ...   \n",
       "4  r3b2r/pp6/2pPpR1k/4n3/2P3Q1/3B4/PP4PP/R5K1 b -...   \n",
       "\n",
       "                                                 pgn  \n",
       "0  [Event \"Enjoyable games 2 - Round 1\"]\\n[Site \"...  \n",
       "1  [Event \"Rapid Rats - Board 5\"]\\n[Site \"Chess.c...  \n",
       "2  [Event \"CHESS BOARD CLASH - Round 1\"]\\n[Site \"...  \n",
       "3  [Event \"CHESS BOARD CLASH - Round 1\"]\\n[Site \"...  \n",
       "4  [Event \"CHESS BOARD CLASH - Round 1\"]\\n[Site \"...  "
      ]
     },
     "execution_count": 11,
     "metadata": {},
     "output_type": "execute_result"
    }
   ],
   "source": [
    "df_chess.head(5)"
   ]
  },
  {
   "cell_type": "markdown",
   "id": "dfe32c4a",
   "metadata": {},
   "source": [
    "필요한 column들을 가져오면"
   ]
  },
  {
   "cell_type": "markdown",
   "id": "9e7052c1",
   "metadata": {},
   "source": [
    "- white rating, black rating\n",
    "- white result\n",
    "- time_class, time_control (시간제한 방식)\n",
    "- pgn(fen은 판의 상황만을 보여주어, 초기부터 수를 볼려면 pgn을 봐야 합니다)"
   ]
  },
  {
   "cell_type": "code",
   "execution_count": 12,
   "id": "bb39fae6",
   "metadata": {},
   "outputs": [],
   "source": [
    "df_chess = df_chess[['white_rating', 'black_rating', 'white_result', 'time_class', 'time_control', 'pgn']]"
   ]
  },
  {
   "cell_type": "markdown",
   "id": "17924c95",
   "metadata": {},
   "source": [
    "이제 이 자른 데이터들이 잘 정돈된 데이터인지 이상은 없는지 좀 보겠습니다."
   ]
  },
  {
   "cell_type": "code",
   "execution_count": 13,
   "id": "b324218b",
   "metadata": {
    "scrolled": true
   },
   "outputs": [
    {
     "name": "stdout",
     "output_type": "stream",
     "text": [
      "<class 'pandas.core.frame.DataFrame'>\n",
      "Int64Index: 65778 entries, 0 to 66878\n",
      "Data columns (total 6 columns):\n",
      " #   Column        Non-Null Count  Dtype \n",
      "---  ------        --------------  ----- \n",
      " 0   white_rating  65778 non-null  int64 \n",
      " 1   black_rating  65778 non-null  int64 \n",
      " 2   white_result  65778 non-null  object\n",
      " 3   time_class    65778 non-null  object\n",
      " 4   time_control  65778 non-null  object\n",
      " 5   pgn           65778 non-null  object\n",
      "dtypes: int64(2), object(4)\n",
      "memory usage: 3.5+ MB\n"
     ]
    }
   ],
   "source": [
    "df_chess.info()"
   ]
  },
  {
   "cell_type": "markdown",
   "id": "8398ce6b",
   "metadata": {},
   "source": [
    "null은 없습니다."
   ]
  },
  {
   "cell_type": "code",
   "execution_count": 14,
   "id": "c0d6b88d",
   "metadata": {
    "scrolled": true
   },
   "outputs": [
    {
     "data": {
      "text/plain": [
       "array(['win', 'checkmated', 'timeout', 'resigned', 'abandoned',\n",
       "       'timevsinsufficient', 'repetition', 'insufficient', 'stalemate',\n",
       "       'agreed', '50move'], dtype=object)"
      ]
     },
     "execution_count": 14,
     "metadata": {},
     "output_type": "execute_result"
    }
   ],
   "source": [
    "df_chess.white_result.unique()"
   ]
  },
  {
   "cell_type": "markdown",
   "id": "8282113d",
   "metadata": {},
   "source": [
    "뭐가 많네요? 하나씩 용어 설명을 해보죠\n",
    "- win : 이겼습니다. 여러 이유로 이길 수 있는데 일단 지는 이유를 봅시다.\n",
    "  - checkmated : 체크메이트를 당해서 집니다.\n",
    "  - timeout : 시간패를 당했습니다. 체스는 시간이 0이 되는 순간 즉시 패배합니다.\n",
    "  - resigned : 기권패입니다.\n",
    "  - abandoned : 탈주입니다.\n",
    "- draw : 비기는 경우가 많은데 다음과 같습니다.\n",
    "  - repetition : 반복수에 의한 무승부입니다.\n",
    "  - insufficient : 기물이 부족하여 무승부가 일어납니다. (예시 - 킹 vs 킹 등)\n",
    "  - staleate : 스테일메이트로 무승부처리 됩니다. 체스의 특수규칙 입니다.\n",
    "  - agreed : 합의 무승부입니다.\n",
    "  - 50move : 폰의 전진, 기물 포획 없이 50수의 경과입니다."
   ]
  },
  {
   "cell_type": "markdown",
   "id": "b11ba8b1",
   "metadata": {},
   "source": [
    "상황이 모두 달라서, 이것을 전처리하는 것은 옳지 않아보입니다. 각각이 의미가 있으니까요."
   ]
  },
  {
   "cell_type": "markdown",
   "id": "4638571b",
   "metadata": {},
   "source": [
    "Remark. timevsinsuffieicnt는 도저히 뭔지 모르겠습니다."
   ]
  },
  {
   "cell_type": "code",
   "execution_count": 15,
   "id": "8b307f66",
   "metadata": {},
   "outputs": [
    {
     "data": {
      "text/plain": [
       "array(['daily', 'rapid', 'bullet', 'blitz'], dtype=object)"
      ]
     },
     "execution_count": 15,
     "metadata": {},
     "output_type": "execute_result"
    }
   ],
   "source": [
    "df_chess.time_class.unique()"
   ]
  },
  {
   "cell_type": "markdown",
   "id": "9a481687",
   "metadata": {},
   "source": [
    "데일리, 래피드, 불렛, 블리츠 4가지 종류의 시간제한이 존재합니다."
   ]
  },
  {
   "cell_type": "code",
   "execution_count": 16,
   "id": "44e894c2",
   "metadata": {
    "scrolled": true
   },
   "outputs": [
    {
     "data": {
      "text/plain": [
       "array(['1/259200', '1/172800', '1800', '1/86400', '1/432000', '1/604800',\n",
       "       '600', '120+1', '900+10', '300', '180+2', '3600+5', '2700+45',\n",
       "       '3600', '1/1209600', '180', '600+10', '60', '480+3', '420+3',\n",
       "       '600+5', '600+2', '300+5', '1200', '30', '60+1', '120', '1500+3',\n",
       "       '900+2', '1500+5', '1500+10', '1/864000', '900', '300+2', '1500',\n",
       "       '300+1', '5400', '3600+60', '2700+30', '3480+45', '10', '2700+10',\n",
       "       '15', '2700', '3600+20', '4500', '4200', '7200', '900+5',\n",
       "       '1800+10', '2700+5', '480+5', '1800+30', '300+3', '600+1',\n",
       "       '1800+5', '420+5', '5400+30', '240+10', '420', '303', '60+10'],\n",
       "      dtype=object)"
      ]
     },
     "execution_count": 16,
     "metadata": {},
     "output_type": "execute_result"
    }
   ],
   "source": [
    "df_chess.time_control.unique()"
   ]
  },
  {
   "cell_type": "markdown",
   "id": "79c0dc77",
   "metadata": {},
   "source": [
    "무엇이 많은데 일단 1/?는 daily 기준으로 한 수에 주는 제한시간입니다.\n",
    "그 외에는 다 기본적으로 제한시간인데 초 단위가 기본입니다. 다만, a+b의 경우 수를 둘 때 마다 b초가 리필되는 구조입니다."
   ]
  },
  {
   "cell_type": "markdown",
   "id": "356041ae",
   "metadata": {},
   "source": [
    "### 여기서 잠깐, 어떤 모드가 많이 플레이 되었는가?"
   ]
  },
  {
   "cell_type": "markdown",
   "id": "6c30cf0d",
   "metadata": {},
   "source": [
    "유저가 선호하는 시간제한 방식 및 세부 규칙이 있을 것입니다. 그거를 간단하게 알아볼까요?"
   ]
  },
  {
   "cell_type": "code",
   "execution_count": 17,
   "id": "c6d83984",
   "metadata": {
    "scrolled": true
   },
   "outputs": [
    {
     "name": "stderr",
     "output_type": "stream",
     "text": [
      "C:\\Users\\USER\\anaconda3\\lib\\site-packages\\seaborn\\_decorators.py:36: FutureWarning: Pass the following variable as a keyword arg: x. From version 0.12, the only valid positional argument will be `data`, and passing other arguments without an explicit keyword will result in an error or misinterpretation.\n",
      "  warnings.warn(\n"
     ]
    },
    {
     "data": {
      "text/plain": [
       "<AxesSubplot:xlabel='time_class', ylabel='count'>"
      ]
     },
     "execution_count": 17,
     "metadata": {},
     "output_type": "execute_result"
    },
    {
     "data": {
      "image/png": "[encoded data removed]",
      "text/plain": [
       "<Figure size 432x288 with 1 Axes>"
      ]
     },
     "metadata": {
      "needs_background": "light"
     },
     "output_type": "display_data"
    }
   ],
   "source": [
    "sns.countplot(df_chess['time_class'])"
   ]
  },
  {
   "cell_type": "markdown",
   "id": "191ed3a0",
   "metadata": {},
   "source": [
    "거의 대부분이 블리츠 체스를 두고 있고 그 이외에는 불렛, 래피드 입니다. 데일리의 비중은 적군요.\n",
    "데일리를 제외하고 나머지 3개가 좀 양이 많으니 궁금합니다. 어떤 시간 방식을 사용할지 한번만 더 봅시다."
   ]
  },
  {
   "cell_type": "code",
   "execution_count": 18,
   "id": "9f8ea4a5",
   "metadata": {},
   "outputs": [
    {
     "name": "stderr",
     "output_type": "stream",
     "text": [
      "C:\\Users\\USER\\anaconda3\\lib\\site-packages\\seaborn\\_decorators.py:36: FutureWarning: Pass the following variable as a keyword arg: x. From version 0.12, the only valid positional argument will be `data`, and passing other arguments without an explicit keyword will result in an error or misinterpretation.\n",
      "  warnings.warn(\n"
     ]
    },
    {
     "data": {
      "text/plain": [
       "<AxesSubplot:xlabel='time_control', ylabel='count'>"
      ]
     },
     "execution_count": 18,
     "metadata": {},
     "output_type": "execute_result"
    },
    {
     "data": {
      "image/png": "[encoded data removed]",
      "text/plain": [
       "<Figure size 1440x360 with 1 Axes>"
      ]
     },
     "metadata": {
      "needs_background": "light"
     },
     "output_type": "display_data"
    }
   ],
   "source": [
    "plt.figure(figsize=(20,5))\n",
    "plt.xticks(rotation= 45)\n",
    "sns.countplot(df_chess.loc[df_chess.time_class == 'rapid']['time_control'])"
   ]
  },
  {
   "cell_type": "markdown",
   "id": "d6798355",
   "metadata": {},
   "source": [
    "대부분이 600초, 10분 체스 플레이를 합니다. 그 이외에 30분이나 15분+10초 룰의 선호도가 보이고 나머지는 마이너합니다."
   ]
  },
  {
   "cell_type": "code",
   "execution_count": 19,
   "id": "db3c3c24",
   "metadata": {
    "scrolled": true
   },
   "outputs": [
    {
     "name": "stderr",
     "output_type": "stream",
     "text": [
      "C:\\Users\\USER\\anaconda3\\lib\\site-packages\\seaborn\\_decorators.py:36: FutureWarning: Pass the following variable as a keyword arg: x. From version 0.12, the only valid positional argument will be `data`, and passing other arguments without an explicit keyword will result in an error or misinterpretation.\n",
      "  warnings.warn(\n"
     ]
    },
    {
     "data": {
      "text/plain": [
       "<AxesSubplot:xlabel='time_control', ylabel='count'>"
      ]
     },
     "execution_count": 19,
     "metadata": {},
     "output_type": "execute_result"
    },
    {
     "data": {
      "image/png": "[encoded data removed]",
      "text/plain": [
       "<Figure size 864x360 with 1 Axes>"
      ]
     },
     "metadata": {
      "needs_background": "light"
     },
     "output_type": "display_data"
    }
   ],
   "source": [
    "plt.figure(figsize=(12,5))\n",
    "sns.countplot(df_chess.loc[df_chess.time_class == 'blitz']['time_control'])"
   ]
  },
  {
   "cell_type": "markdown",
   "id": "74aa7741",
   "metadata": {},
   "source": [
    "블리츠 모드에서는 5분, 3분 10분 정도를 선호하고 있고 시간이 추가되는 방식의 선호도는 낮네요."
   ]
  },
  {
   "cell_type": "code",
   "execution_count": 20,
   "id": "0558cb68",
   "metadata": {
    "scrolled": false
   },
   "outputs": [
    {
     "name": "stderr",
     "output_type": "stream",
     "text": [
      "C:\\Users\\USER\\anaconda3\\lib\\site-packages\\seaborn\\_decorators.py:36: FutureWarning: Pass the following variable as a keyword arg: x. From version 0.12, the only valid positional argument will be `data`, and passing other arguments without an explicit keyword will result in an error or misinterpretation.\n",
      "  warnings.warn(\n"
     ]
    },
    {
     "data": {
      "text/plain": [
       "<AxesSubplot:xlabel='time_control', ylabel='count'>"
      ]
     },
     "execution_count": 20,
     "metadata": {},
     "output_type": "execute_result"
    },
    {
     "data": {
      "image/png": "[encoded data removed]",
      "text/plain": [
       "<Figure size 864x360 with 1 Axes>"
      ]
     },
     "metadata": {
      "needs_background": "light"
     },
     "output_type": "display_data"
    }
   ],
   "source": [
    "plt.figure(figsize=(12,5))\n",
    "sns.countplot(df_chess.loc[df_chess.time_class == 'bullet']['time_control'])"
   ]
  },
  {
   "cell_type": "markdown",
   "id": "d44c51a0",
   "metadata": {},
   "source": [
    "불렛은 그보다 더 빠른 체스입니다. 1분 체스에 대한 선호도가 압도적입니다."
   ]
  },
  {
   "cell_type": "markdown",
   "id": "dc8c0e2e",
   "metadata": {},
   "source": [
    "이렇게 대부분 빠른 속도의 게임에 대한 선호도가 매우 높습니다.(물론 불렛에서 30초는 좀 낮네요. 너무 빠르긴 해요)"
   ]
  },
  {
   "cell_type": "markdown",
   "id": "fc8579ef",
   "metadata": {},
   "source": [
    "## pgn 전처리하기"
   ]
  },
  {
   "cell_type": "markdown",
   "id": "bfa50f62",
   "metadata": {},
   "source": [
    "그럼 이제 체스의 수를 불러와야 합니다. 하지만 어떻게..?"
   ]
  },
  {
   "cell_type": "code",
   "execution_count": 21,
   "id": "7f64d9f2",
   "metadata": {},
   "outputs": [
    {
     "data": {
      "text/plain": [
       "0        [Event \"Enjoyable games 2 - Round 1\"]\\n[Site \"...\n",
       "1        [Event \"Rapid Rats - Board 5\"]\\n[Site \"Chess.c...\n",
       "2        [Event \"CHESS BOARD CLASH - Round 1\"]\\n[Site \"...\n",
       "3        [Event \"CHESS BOARD CLASH - Round 1\"]\\n[Site \"...\n",
       "4        [Event \"CHESS BOARD CLASH - Round 1\"]\\n[Site \"...\n",
       "                               ...                        \n",
       "66874    [Event \"Live Chess\"]\\n[Site \"Chess.com\"]\\n[Dat...\n",
       "66875    [Event \"Live Chess\"]\\n[Site \"Chess.com\"]\\n[Dat...\n",
       "66876    [Event \"Live Chess\"]\\n[Site \"Chess.com\"]\\n[Dat...\n",
       "66877    [Event \"Live Chess\"]\\n[Site \"Chess.com\"]\\n[Dat...\n",
       "66878    [Event \"Live Chess\"]\\n[Site \"Chess.com\"]\\n[Dat...\n",
       "Name: pgn, Length: 65778, dtype: object"
      ]
     },
     "execution_count": 21,
     "metadata": {},
     "output_type": "execute_result"
    }
   ],
   "source": [
    "df_chess['pgn']"
   ]
  },
  {
   "cell_type": "markdown",
   "id": "148a53d8",
   "metadata": {},
   "source": [
    "pgn이라는 것에 체스 기보가 저장되어 있습니다만. 전처리가 막막하군요"
   ]
  },
  {
   "cell_type": "code",
   "execution_count": 22,
   "id": "de1908c4",
   "metadata": {},
   "outputs": [
    {
     "data": {
      "text/plain": [
       "'[Event \"Enjoyable games 2 - Round 1\"]\\n[Site \"Chess.com\"]\\n[Date \"2013.01.30\"]\\n[Round \"-\"]\\n[White \"-Amos-\"]\\n[Black \"miniman2804\"]\\n[Result \"1-0\"]\\n[Tournament \"https://www.chess.com/tournament/enjoyable-games-2\"]\\n[CurrentPosition \"r2r4/p2p1p1p/b6R/n1p1kp2/2P2P2/3BP3/PP5P/4K2R b K f3 1 22\"]\\n[Timezone \"UTC\"]\\n[ECO \"E22\"]\\n[ECOUrl \"https://www.chess.com/openings/Nimzo-Indian-Defense-Spielmann-Variation\"]\\n[UTCDate \"2013.01.30\"]\\n[UTCTime \"16:35:14\"]\\n[WhiteElo \"1708\"]\\n[BlackElo \"1608\"]\\n[TimeControl \"1/259200\"]\\n[Termination \"-Amos- won by checkmate\"]\\n[StartTime \"16:35:14\"]\\n[EndDate \"2013.02.01\"]\\n[EndTime \"18:14:48\"]\\n[Link \"https://www.chess.com/game/daily/64629816\"]\\n\\n1. d4 Nf6 2. c4 e6 3. Nc3 Bb4 4. Qb3 Bxc3+ 5. Qxc3 O-O 6. Bg5 c5 7. dxc5 Nc6 8. Nf3 Qa5 9. Bxf6 gxf6 10. Qxa5 Nxa5 11. e3 Rd8 12. Rd1 Kg7 13. Be2 b6 14. Rd4 bxc5 15. Rg4+ Kh6 16. Bd3 f5 17. Rh4+ Kg6 18. g4 Ba6 19. gxf5+ exf5 20. Ne5+ Kf6 21. Rh6+ Kxe5 22. f4# 1-0\\n'"
      ]
     },
     "execution_count": 22,
     "metadata": {},
     "output_type": "execute_result"
    }
   ],
   "source": [
    "df_chess['pgn'][0]"
   ]
  },
  {
   "cell_type": "markdown",
   "id": "89fe7a32",
   "metadata": {},
   "source": [
    "다행스럽게도, \"\\n\"으로 구분을 시켜서 볼 수 있을 것 같습니다."
   ]
  },
  {
   "cell_type": "code",
   "execution_count": 23,
   "id": "bd011bfe",
   "metadata": {
    "scrolled": true
   },
   "outputs": [
    {
     "data": {
      "text/plain": [
       "['[Event \"Live Chess\"]',\n",
       " '[Site \"Chess.com\"]',\n",
       " '[Date \"2021.02.19\"]',\n",
       " '[Round \"-\"]',\n",
       " '[White \"Alyushkov\"]',\n",
       " '[Black \"abdullahnasib\"]',\n",
       " '[Result \"0-1\"]',\n",
       " '[CurrentPosition \"1k1q1bnr/p1pb2pp/Bp2p3/3pPp2/3P4/N1P2N2/1P3PPP/n4RK1 w - -\"]',\n",
       " '[Timezone \"UTC\"]',\n",
       " '[ECO \"C02\"]',\n",
       " '[ECOUrl \"https://www.chess.com/openings/French-Defense-Advance-Variation\"]',\n",
       " '[UTCDate \"2021.02.19\"]',\n",
       " '[UTCTime \"15:21:47\"]',\n",
       " '[WhiteElo \"866\"]',\n",
       " '[BlackElo \"901\"]',\n",
       " '[TimeControl \"300\"]',\n",
       " '[Termination \"abdullahnasib won by resignation\"]',\n",
       " '[StartTime \"15:21:47\"]',\n",
       " '[EndDate \"2021.02.19\"]',\n",
       " '[EndTime \"15:24:10\"]',\n",
       " '[Link \"https://www.chess.com/game/live/7486996141\"]',\n",
       " '',\n",
       " '1. e4 {[%clk 0:05:00]} 1... e6 {[%clk 0:04:56.8]} 2. d4 {[%clk 0:04:58.2]} 2... d5 {[%clk 0:04:55.8]} 3. e5 {[%clk 0:04:56.2]} 3... f5 {[%clk 0:04:53.1]} 4. Nf3 {[%clk 0:04:37]} 4... Nc6 {[%clk 0:04:51.2]} 5. c3 {[%clk 0:04:34.2]} 5... Bd7 {[%clk 0:04:45.4]} 6. Qb3 {[%clk 0:04:30.1]} 6... b6 {[%clk 0:04:38.6]} 7. a4 {[%clk 0:04:21.2]} 7... Qe7 {[%clk 0:04:37.1]} 8. Na3 {[%clk 0:04:15.2]} 8... O-O-O {[%clk 0:04:33.6]} 9. a5 {[%clk 0:04:06.9]} 9... Nxa5 {[%clk 0:04:29.4]} 10. Ba6+ {[%clk 0:04:02.3]} 10... Kb8 {[%clk 0:04:25.9]} 11. Bd2 {[%clk 0:03:52.4]} 11... Nxb3 {[%clk 0:04:22]} 12. Bg5 {[%clk 0:03:50.7]} 12... Qe8 {[%clk 0:04:13.9]} 13. Bxd8 {[%clk 0:03:47.7]} 13... Qxd8 {[%clk 0:04:09.3]} 14. O-O {[%clk 0:03:40.5]} 14... Nxa1 {[%clk 0:04:07.5]} 0-1',\n",
       " '']"
      ]
     },
     "execution_count": 23,
     "metadata": {},
     "output_type": "execute_result"
    }
   ],
   "source": [
    "list(df_chess['pgn'][66874].split('\\n'))"
   ]
  },
  {
   "cell_type": "markdown",
   "id": "2f946332",
   "metadata": {},
   "source": [
    "이렇게 깔끔하게 경기의 정보를 볼 수 있습니다. 오프닝에 대한 정보도 있는데, ECO는 체스 오프닝 사전에서 부여하는 코드입니다. 각각의 이름이 존재합니다. 물론 Variations들이 많아서 이후의 수도 중요하지만 큰 줄기의 이름을 알아낼 수 있습니다."
   ]
  },
  {
   "cell_type": "markdown",
   "id": "6a112866",
   "metadata": {},
   "source": [
    "즉, 가져와야할 정보는 다음과 같습니다.\n",
    "- 두 플레이어가 둔 수 리스트\n",
    "- eco 가져오기"
   ]
  },
  {
   "cell_type": "markdown",
   "id": "24cb150a",
   "metadata": {},
   "source": [
    "## 전처리"
   ]
  },
  {
   "cell_type": "markdown",
   "id": "3ce87a44",
   "metadata": {},
   "source": [
    "그럼 세부 분석을 위한 전처리 작업을 진행하겠습니다."
   ]
  },
  {
   "cell_type": "code",
   "execution_count": 24,
   "id": "c079ac39",
   "metadata": {},
   "outputs": [],
   "source": [
    "df_chess['white_grade'] = df_chess.white_rating.apply(lambda x : get_chess_grade(x))\n",
    "df_chess['black_grade'] = df_chess.black_rating.apply(lambda x : get_chess_grade(x))"
   ]
  },
  {
   "cell_type": "code",
   "execution_count": 25,
   "id": "ece47a36",
   "metadata": {
    "scrolled": true
   },
   "outputs": [
    {
     "data": {
      "text/html": [
       "<div>\n",
       "<style scoped>\n",
       "    .dataframe tbody tr th:only-of-type {\n",
       "        vertical-align: middle;\n",
       "    }\n",
       "\n",
       "    .dataframe tbody tr th {\n",
       "        vertical-align: top;\n",
       "    }\n",
       "\n",
       "    .dataframe thead th {\n",
       "        text-align: right;\n",
       "    }\n",
       "</style>\n",
       "<table border=\"1\" class=\"dataframe\">\n",
       "  <thead>\n",
       "    <tr style=\"text-align: right;\">\n",
       "      <th></th>\n",
       "      <th>white_rating</th>\n",
       "      <th>black_rating</th>\n",
       "      <th>white_result</th>\n",
       "      <th>time_class</th>\n",
       "      <th>time_control</th>\n",
       "      <th>pgn</th>\n",
       "      <th>white_grade</th>\n",
       "      <th>black_grade</th>\n",
       "    </tr>\n",
       "  </thead>\n",
       "  <tbody>\n",
       "    <tr>\n",
       "      <th>0</th>\n",
       "      <td>1708</td>\n",
       "      <td>1608</td>\n",
       "      <td>win</td>\n",
       "      <td>daily</td>\n",
       "      <td>1/259200</td>\n",
       "      <td>[Event \"Enjoyable games 2 - Round 1\"]\\n[Site \"...</td>\n",
       "      <td>7</td>\n",
       "      <td>6</td>\n",
       "    </tr>\n",
       "    <tr>\n",
       "      <th>1</th>\n",
       "      <td>1726</td>\n",
       "      <td>1577</td>\n",
       "      <td>win</td>\n",
       "      <td>daily</td>\n",
       "      <td>1/172800</td>\n",
       "      <td>[Event \"Rapid Rats - Board 5\"]\\n[Site \"Chess.c...</td>\n",
       "      <td>7</td>\n",
       "      <td>6</td>\n",
       "    </tr>\n",
       "    <tr>\n",
       "      <th>2</th>\n",
       "      <td>1727</td>\n",
       "      <td>842</td>\n",
       "      <td>win</td>\n",
       "      <td>daily</td>\n",
       "      <td>1/172800</td>\n",
       "      <td>[Event \"CHESS BOARD CLASH - Round 1\"]\\n[Site \"...</td>\n",
       "      <td>7</td>\n",
       "      <td>2</td>\n",
       "    </tr>\n",
       "    <tr>\n",
       "      <th>3</th>\n",
       "      <td>819</td>\n",
       "      <td>1727</td>\n",
       "      <td>checkmated</td>\n",
       "      <td>daily</td>\n",
       "      <td>1/172800</td>\n",
       "      <td>[Event \"CHESS BOARD CLASH - Round 1\"]\\n[Site \"...</td>\n",
       "      <td>2</td>\n",
       "      <td>7</td>\n",
       "    </tr>\n",
       "    <tr>\n",
       "      <th>4</th>\n",
       "      <td>1729</td>\n",
       "      <td>1116</td>\n",
       "      <td>win</td>\n",
       "      <td>daily</td>\n",
       "      <td>1/172800</td>\n",
       "      <td>[Event \"CHESS BOARD CLASH - Round 1\"]\\n[Site \"...</td>\n",
       "      <td>7</td>\n",
       "      <td>4</td>\n",
       "    </tr>\n",
       "    <tr>\n",
       "      <th>...</th>\n",
       "      <td>...</td>\n",
       "      <td>...</td>\n",
       "      <td>...</td>\n",
       "      <td>...</td>\n",
       "      <td>...</td>\n",
       "      <td>...</td>\n",
       "      <td>...</td>\n",
       "      <td>...</td>\n",
       "    </tr>\n",
       "    <tr>\n",
       "      <th>66874</th>\n",
       "      <td>866</td>\n",
       "      <td>901</td>\n",
       "      <td>resigned</td>\n",
       "      <td>blitz</td>\n",
       "      <td>300</td>\n",
       "      <td>[Event \"Live Chess\"]\\n[Site \"Chess.com\"]\\n[Dat...</td>\n",
       "      <td>2</td>\n",
       "      <td>3</td>\n",
       "    </tr>\n",
       "    <tr>\n",
       "      <th>66875</th>\n",
       "      <td>910</td>\n",
       "      <td>912</td>\n",
       "      <td>win</td>\n",
       "      <td>blitz</td>\n",
       "      <td>300</td>\n",
       "      <td>[Event \"Live Chess\"]\\n[Site \"Chess.com\"]\\n[Dat...</td>\n",
       "      <td>3</td>\n",
       "      <td>3</td>\n",
       "    </tr>\n",
       "    <tr>\n",
       "      <th>66876</th>\n",
       "      <td>909</td>\n",
       "      <td>919</td>\n",
       "      <td>abandoned</td>\n",
       "      <td>blitz</td>\n",
       "      <td>300</td>\n",
       "      <td>[Event \"Live Chess\"]\\n[Site \"Chess.com\"]\\n[Dat...</td>\n",
       "      <td>3</td>\n",
       "      <td>3</td>\n",
       "    </tr>\n",
       "    <tr>\n",
       "      <th>66877</th>\n",
       "      <td>928</td>\n",
       "      <td>933</td>\n",
       "      <td>win</td>\n",
       "      <td>blitz</td>\n",
       "      <td>300</td>\n",
       "      <td>[Event \"Live Chess\"]\\n[Site \"Chess.com\"]\\n[Dat...</td>\n",
       "      <td>3</td>\n",
       "      <td>3</td>\n",
       "    </tr>\n",
       "    <tr>\n",
       "      <th>66878</th>\n",
       "      <td>927</td>\n",
       "      <td>919</td>\n",
       "      <td>win</td>\n",
       "      <td>blitz</td>\n",
       "      <td>300</td>\n",
       "      <td>[Event \"Live Chess\"]\\n[Site \"Chess.com\"]\\n[Dat...</td>\n",
       "      <td>3</td>\n",
       "      <td>3</td>\n",
       "    </tr>\n",
       "  </tbody>\n",
       "</table>\n",
       "<p>65778 rows × 8 columns</p>\n",
       "</div>"
      ],
      "text/plain": [
       "       white_rating  black_rating white_result time_class time_control  \\\n",
       "0              1708          1608          win      daily     1/259200   \n",
       "1              1726          1577          win      daily     1/172800   \n",
       "2              1727           842          win      daily     1/172800   \n",
       "3               819          1727   checkmated      daily     1/172800   \n",
       "4              1729          1116          win      daily     1/172800   \n",
       "...             ...           ...          ...        ...          ...   \n",
       "66874           866           901     resigned      blitz          300   \n",
       "66875           910           912          win      blitz          300   \n",
       "66876           909           919    abandoned      blitz          300   \n",
       "66877           928           933          win      blitz          300   \n",
       "66878           927           919          win      blitz          300   \n",
       "\n",
       "                                                     pgn  white_grade  \\\n",
       "0      [Event \"Enjoyable games 2 - Round 1\"]\\n[Site \"...            7   \n",
       "1      [Event \"Rapid Rats - Board 5\"]\\n[Site \"Chess.c...            7   \n",
       "2      [Event \"CHESS BOARD CLASH - Round 1\"]\\n[Site \"...            7   \n",
       "3      [Event \"CHESS BOARD CLASH - Round 1\"]\\n[Site \"...            2   \n",
       "4      [Event \"CHESS BOARD CLASH - Round 1\"]\\n[Site \"...            7   \n",
       "...                                                  ...          ...   \n",
       "66874  [Event \"Live Chess\"]\\n[Site \"Chess.com\"]\\n[Dat...            2   \n",
       "66875  [Event \"Live Chess\"]\\n[Site \"Chess.com\"]\\n[Dat...            3   \n",
       "66876  [Event \"Live Chess\"]\\n[Site \"Chess.com\"]\\n[Dat...            3   \n",
       "66877  [Event \"Live Chess\"]\\n[Site \"Chess.com\"]\\n[Dat...            3   \n",
       "66878  [Event \"Live Chess\"]\\n[Site \"Chess.com\"]\\n[Dat...            3   \n",
       "\n",
       "       black_grade  \n",
       "0                6  \n",
       "1                6  \n",
       "2                2  \n",
       "3                7  \n",
       "4                4  \n",
       "...            ...  \n",
       "66874            3  \n",
       "66875            3  \n",
       "66876            3  \n",
       "66877            3  \n",
       "66878            3  \n",
       "\n",
       "[65778 rows x 8 columns]"
      ]
     },
     "execution_count": 25,
     "metadata": {},
     "output_type": "execute_result"
    }
   ],
   "source": [
    "df_chess"
   ]
  },
  {
   "cell_type": "markdown",
   "id": "3f23f727",
   "metadata": {},
   "source": [
    "문제는 태그의 위치를 모르므로 좀 고생스럽지만 오프닝을 직접 찾아줍시다."
   ]
  },
  {
   "cell_type": "code",
   "execution_count": 26,
   "id": "d886f4e9",
   "metadata": {},
   "outputs": [],
   "source": [
    "def get_opening_code(x):\n",
    "    for c in list(x.split('\\n')):\n",
    "        if c[1:5] == 'ECO ': return c[-5:-2]\n",
    "    else: return 0"
   ]
  },
  {
   "cell_type": "code",
   "execution_count": 27,
   "id": "0cf2cc03",
   "metadata": {
    "scrolled": false
   },
   "outputs": [],
   "source": [
    "# 라이브체스일 때와, 아닐때 담기는 오프닝 위치가 달라집니다.\n",
    "df_chess['opening'] = df_chess.pgn.apply(lambda x: get_opening_code(x))\n",
    "df_chess['play_record'] = df_chess.pgn.apply(lambda x: list(x.split('\\n'))[-2])"
   ]
  },
  {
   "cell_type": "code",
   "execution_count": 28,
   "id": "b398b252",
   "metadata": {},
   "outputs": [
    {
     "data": {
      "text/plain": [
       "array(['E22', 'C53', 'D00', 'B20', 'A40', 'C02', 0, 'A15', 'A04', 'A57',\n",
       "       'B21', 'B40', 'D35', 'D10', 'E00', 'E61', 'D30', 'B23', 'B44',\n",
       "       'E62', 'A17', 'A41', 'D04', 'D02', 'A45', 'B30', 'C50', 'D06',\n",
       "       'B22', 'E11', 'E60', 'E90', 'E20', 'B33', 'A44', 'C36', 'C78',\n",
       "       'B00', 'D20', 'A09', 'A43', 'C00', 'D50', 'D31', 'B24', 'E71',\n",
       "       'B06', 'A42', 'A10', 'D07', 'D86', 'D08', 'A60', 'A06', 'D55',\n",
       "       'A85', 'A52', 'C35', 'B27', 'D43', 'B92', 'B01', 'B07', 'B34',\n",
       "       'C34', 'C30', 'A84', 'C41', 'C23', 'C20', 'A01', 'B10', 'B02',\n",
       "       'A00', 'C40', 'A20', 'B50', 'A53', 'A80', 'C24', 'A46', 'C01',\n",
       "       'A16', 'D03', 'C25', 'A48', 'C47', 'C62', 'C68', 'C55', 'C44',\n",
       "       'C21', 'C22', 'C45', 'B32', 'C26', 'B54', 'C42', 'D37', 'B53',\n",
       "       'A05', 'C43', 'A28', 'A02', 'C46', 'B46', 'B12', 'C15', 'D01',\n",
       "       'C64', 'A13', 'A21', 'A22', 'D15', 'E27', 'B43', 'A50', 'E87',\n",
       "       'E76', 'E70', 'B28', 'D85', 'B70', 'C28', 'C33', 'A03', 'C60',\n",
       "       'C05', 'C18', 'A07', 'C70', 'B90', 'B13', 'B86', 'C11', 'C65',\n",
       "       'A49', 'E12', 'A54', 'B52', 'B80', 'B15', 'D11', 'D32', 'C67',\n",
       "       'C49', 'A34', 'C37', 'C57', 'D24', 'B29', 'A82', 'C52', 'C51',\n",
       "       'A25', 'C29', 'A86', 'C77', 'C61', 'C48', 'B45', 'D70', 'B18',\n",
       "       'B56', 'E77', 'B47', 'D94', 'B51', 'A81', 'C66', 'C10', 'C54',\n",
       "       'E34', 'B94', 'C56', 'B08', 'D21', 'D80', 'A24', 'A11', 'D90',\n",
       "       'B17', 'A30', 'C87', 'B93', 'D53', 'D52', 'B72', 'D38', 'A56',\n",
       "       'B75', 'B76', 'E10', 'D26', 'E33', 'E21', 'C63', 'A51', 'D13',\n",
       "       'E30', 'E91', 'A66', 'D09', 'D25', 'B03', 'C17', 'A47', 'B14',\n",
       "       'A37', 'A27', 'A36', 'D05', 'D92', 'B38', 'B36', 'C58', 'A35',\n",
       "       'A08', 'B84', 'B31', 'E41', 'E32', 'C08', 'C31', 'B11', 'A68',\n",
       "       'A31', 'A67', 'C59', 'D22', 'D12', 'E39', 'B71', 'C74', 'C92',\n",
       "       'C79', 'E43', 'B95', 'D40', 'C71', 'A29', 'B41', 'B60', 'C14',\n",
       "       'D93', 'D73', 'C13', 'C39', 'D51', 'E80', 'C07', 'E81', 'B16',\n",
       "       'A18', 'B96', 'C03', 'E40', 'A96', 'A23', 'A65', 'C04', 'B48',\n",
       "       'B77', 'B09', 'E16', 'A83', 'E65', 'E94', 'E46', 'E17', 'B35',\n",
       "       'B37', 'A90', 'C32', 'E24', 'E48', 'E38', 'C72', 'E92', 'D23',\n",
       "       'C06', 'E73', 'E15', 'E18', 'E50', 'D44', 'B58', 'B04', 'E64',\n",
       "       'B49', 'C84', 'C88', 'A58', 'B05', 'C16', 'B42', 'C80', 'D91',\n",
       "       'C89', 'C69', 'D41', 'E01', 'C75', 'A70', 'C09', 'C85', 'E04',\n",
       "       'E42', 'D82', 'E36', 'A38', 'B57', 'B98'], dtype=object)"
      ]
     },
     "execution_count": 28,
     "metadata": {},
     "output_type": "execute_result"
    }
   ],
   "source": [
    "df_chess.opening.unique()"
   ]
  },
  {
   "cell_type": "markdown",
   "id": "039762cf",
   "metadata": {},
   "source": [
    "오프닝을 모르는 결과가 있습니다. 우째야할까요. 분류가 안되는 특이케이스인 것일거니 unknown으로 처리해줍시다."
   ]
  },
  {
   "cell_type": "markdown",
   "id": "fef9037c",
   "metadata": {},
   "source": [
    "이제 문제의 play_record인데 정리가 만만치 않습니다."
   ]
  },
  {
   "cell_type": "code",
   "execution_count": 29,
   "id": "5ffc01a9",
   "metadata": {
    "scrolled": true
   },
   "outputs": [
    {
     "data": {
      "text/plain": [
       "0        1. d4 Nf6 2. c4 e6 3. Nc3 Bb4 4. Qb3 Bxc3+ 5. ...\n",
       "1        1. e4 e5 2. Nf3 Nc6 3. Bc4 Bc5 4. c3 a6 5. d4 ...\n",
       "2        1. d4 d5 2. e3 c6 3. c4 dxc4 4. Bxc4 b5 5. Bb3...\n",
       "3        1. e4 c5 2. b3 Nc6 3. a4 d6 4. Bb5 Bd7 5. Qf3 ...\n",
       "4        1. d4 e6 2. c4 Qf6 3. Nf3 d6 4. Bg5 Qg6 5. Nc3...\n",
       "                               ...                        \n",
       "66874    1. e4 {[%clk 0:05:00]} 1... e6 {[%clk 0:04:56....\n",
       "66875    1. e4 {[%clk 0:04:59.6]} 1... e5 {[%clk 0:04:5...\n",
       "66876    1. e4 {[%clk 0:05:00]} 1... e5 {[%clk 0:04:58....\n",
       "66877    1. e4 {[%clk 0:04:57]} 1... c5 {[%clk 0:04:58....\n",
       "66878    1. e4 {[%clk 0:05:00]} 1... e5 {[%clk 0:04:56....\n",
       "Name: play_record, Length: 65778, dtype: object"
      ]
     },
     "execution_count": 29,
     "metadata": {},
     "output_type": "execute_result"
    }
   ],
   "source": [
    "df_chess.play_record"
   ]
  },
  {
   "cell_type": "markdown",
   "id": "74049277",
   "metadata": {},
   "source": [
    "역시 여러 패턴이 보이는데 0번과 66878번의 패턴을 봅시다"
   ]
  },
  {
   "cell_type": "code",
   "execution_count": 30,
   "id": "8b0ff37a",
   "metadata": {},
   "outputs": [
    {
     "data": {
      "text/plain": [
       "'1. d4 Nf6 2. c4 e6 3. Nc3 Bb4 4. Qb3 Bxc3+ 5. Qxc3 O-O 6. Bg5 c5 7. dxc5 Nc6 8. Nf3 Qa5 9. Bxf6 gxf6 10. Qxa5 Nxa5 11. e3 Rd8 12. Rd1 Kg7 13. Be2 b6 14. Rd4 bxc5 15. Rg4+ Kh6 16. Bd3 f5 17. Rh4+ Kg6 18. g4 Ba6 19. gxf5+ exf5 20. Ne5+ Kf6 21. Rh6+ Kxe5 22. f4# 1-0'"
      ]
     },
     "execution_count": 30,
     "metadata": {},
     "output_type": "execute_result"
    }
   ],
   "source": [
    "df_chess.play_record[0]"
   ]
  },
  {
   "cell_type": "code",
   "execution_count": 31,
   "id": "e2dee921",
   "metadata": {},
   "outputs": [
    {
     "data": {
      "text/plain": [
       "'1. e4 {[%clk 0:05:00]} 1... e5 {[%clk 0:04:56.3]} 2. f4 {[%clk 0:04:58.6]} 2... d6 {[%clk 0:04:55.3]} 3. fxe5 {[%clk 0:04:55.3]} 3... dxe5 {[%clk 0:04:53.4]} 4. Nf3 {[%clk 0:04:54.7]} 4... Bd6 {[%clk 0:04:48.6]} 5. d4 {[%clk 0:04:48.4]} 5... c5 {[%clk 0:04:47.9]} 6. dxe5 {[%clk 0:04:45.6]} 6... Bc7 {[%clk 0:04:43.4]} 7. Bc4 {[%clk 0:04:42.7]} 7... Qxd1+ {[%clk 0:04:40.7]} 8. Kxd1 {[%clk 0:04:40.3]} 8... Ne7 {[%clk 0:04:35.4]} 9. Be3 {[%clk 0:04:38.6]} 9... O-O {[%clk 0:04:33.2]} 10. Bxc5 {[%clk 0:04:35.1]} 10... Rd8+ {[%clk 0:04:22.5]} 11. Nbd2 {[%clk 0:04:27.3]} 11... Nec6 {[%clk 0:04:14.7]} 12. Ke2 {[%clk 0:04:18.6]} 12... Bg4 {[%clk 0:04:09.4]} 13. h3 {[%clk 0:04:13.8]} 13... Bxf3+ {[%clk 0:04:07.2]} 14. gxf3 {[%clk 0:04:12.4]} 14... Nxe5 {[%clk 0:04:06.4]} 15. Bb3 {[%clk 0:04:04.4]} 15... b6 {[%clk 0:04:03.2]} 16. Be3 {[%clk 0:04:00.2]} 16... Nbc6 {[%clk 0:03:58]} 17. Nc4 {[%clk 0:03:47.5]} 17... Nxc4 {[%clk 0:03:55.2]} 18. Bxc4 {[%clk 0:03:46.2]} 18... Na5 {[%clk 0:03:51.4]} 19. Bb3 {[%clk 0:03:43.5]} 19... g6 {[%clk 0:03:48]} 20. Rhd1 {[%clk 0:03:41.8]} 20... Rxd1 {[%clk 0:03:44.9]} 21. Rxd1 {[%clk 0:03:40.1]} 21... Nxb3 {[%clk 0:03:44.2]} 22. cxb3 {[%clk 0:03:38.5]} 22... Rd8 {[%clk 0:03:41.6]} 23. Rxd8+ {[%clk 0:03:34.2]} 23... Bxd8 {[%clk 0:03:39.8]} 24. Kd3 {[%clk 0:03:29.4]} 24... Bf6 {[%clk 0:03:38.1]} 25. Bd4 {[%clk 0:03:16.5]} 25... Bxd4 {[%clk 0:03:34.8]} 26. Kxd4 {[%clk 0:03:15.3]} 26... h5 {[%clk 0:03:34.2]} 27. Kd5 {[%clk 0:03:13.6]} 27... Kf8 {[%clk 0:03:33.7]} 28. Kc6 {[%clk 0:03:12.3]} 28... Ke7 {[%clk 0:03:31.3]} 29. Kb7 {[%clk 0:03:11.5]} 29... Kf6 {[%clk 0:03:26.4]} 30. Kxa7 {[%clk 0:03:10.6]} 30... Kg5 {[%clk 0:03:26]} 31. Kxb6 {[%clk 0:03:09.2]} 31... Kf4 {[%clk 0:03:25.6]} 32. a4 {[%clk 0:03:07.7]} 32... Kxf3 {[%clk 0:03:25.2]} 33. a5 {[%clk 0:03:06.7]} 33... Kxe4 {[%clk 0:03:24.8]} 34. a6 {[%clk 0:03:06]} 34... f5 {[%clk 0:03:24.2]} 35. a7 {[%clk 0:03:05.3]} 35... f4 {[%clk 0:03:23.8]} 36. a8=Q+ {[%clk 0:03:04]} 36... Ke3 {[%clk 0:03:22.4]} 37. Qd5 {[%clk 0:02:57.8]} 37... f3 {[%clk 0:03:19.3]} 38. Qe5+ {[%clk 0:02:55.6]} 38... Kf2 {[%clk 0:03:16.7]} 39. Kc5 {[%clk 0:02:51.8]} 39... Kg2 {[%clk 0:03:15.1]} 40. Qg5+ {[%clk 0:02:44.1]} 40... Kxh3 {[%clk 0:03:12.6]} 41. Qxg6 {[%clk 0:02:37.2]} 41... f2 {[%clk 0:03:12]} 42. Qf5+ {[%clk 0:02:29.7]} 42... Kg2 {[%clk 0:03:08.8]} 43. b4 {[%clk 0:02:26]} 43... f1=Q {[%clk 0:03:07.4]} 44. Qxf1+ {[%clk 0:02:25]} 44... Kxf1 {[%clk 0:03:05.4]} 45. b5 {[%clk 0:02:24.2]} 45... h4 {[%clk 0:03:04.9]} 46. b6 {[%clk 0:02:23.6]} 46... h3 {[%clk 0:03:04.5]} 47. b7 {[%clk 0:02:23.1]} 47... h2 {[%clk 0:03:03.9]} 48. b8=Q {[%clk 0:02:22]} 48... h1=Q {[%clk 0:03:02.7]} 49. Qf4+ {[%clk 0:02:18.4]} 49... Kg1 {[%clk 0:03:00.1]} 50. Qc1+ {[%clk 0:02:16.4]} 50... Kg2 {[%clk 0:02:56.6]} 51. Qxh1+ {[%clk 0:02:16.3]} 51... Kxh1 {[%clk 0:02:55.4]} 52. b3 {[%clk 0:02:15.7]} 1-0'"
      ]
     },
     "execution_count": 31,
     "metadata": {},
     "output_type": "execute_result"
    }
   ],
   "source": [
    "df_chess.play_record[66878]"
   ]
  },
  {
   "cell_type": "markdown",
   "id": "5f946e90",
   "metadata": {},
   "source": [
    "체스 기보법에 대해 좀 알아야 하는데, 특정 말을 옮기는 좌표를 표기한 겁니다.\n",
    "- (말)(상황)(좌표)가 기본입니다.\n",
    "- 폰의 움직임은 폰이라고 말을 적지 않습니다. 생략합니다.\n",
    "- 좌표는 도착점입니다.\n",
    "- 말을 잡을 경우 x가 상황에 들어갑니다.\n",
    "- 체크를 걸 경우, 맨 끝에 +가 들어갑니다.\n",
    "- 프로모션 성공시 맨 끝에 = 와 승급한 말 대상이 들어갑니다.\n",
    "- 킹사이드 캐슬링은 O-O, 퀸사이드 캐슬링은 O-O-O가 들어갑니다.\n",
    "- 체크메이트를 했을 경우 맨 끝에 #가 들어갑니다.\n",
    "\n",
    "그 외 뭐 다양한 상황이 있는데 공통점은 :나 .나 -은 쓰이지 않습니다.\n",
    "이를 기반으로 전처리를 만들어보죠"
   ]
  },
  {
   "cell_type": "code",
   "execution_count": 32,
   "id": "a53f8792",
   "metadata": {},
   "outputs": [],
   "source": [
    "def get_seq(x):\n",
    "    seq_list = []\n",
    "    for c in list(x.split(' ')):\n",
    "        if len(c) > 0 and ('.' not in c) and (':' not in c) and ('%' not in c):\n",
    "            seq_list.append(c)\n",
    "    return seq_list"
   ]
  },
  {
   "cell_type": "code",
   "execution_count": 33,
   "id": "66d771a9",
   "metadata": {},
   "outputs": [],
   "source": [
    "df_chess['play_record'] = df_chess.play_record.apply(lambda x: get_seq(x))"
   ]
  },
  {
   "cell_type": "markdown",
   "id": "21471abb",
   "metadata": {},
   "source": [
    "이렇게 모든 수를 담을 수 있습니다. 마지막으로 오프닝 시트를 불러와서 merge 하고 없는 것은 Unknown 처리 합시다"
   ]
  },
  {
   "cell_type": "code",
   "execution_count": 41,
   "id": "f98f8861",
   "metadata": {},
   "outputs": [],
   "source": [
    "df_opening = pd.read_csv('C:/Users/USER/Desktop/playground/chess_play/chess_opening_eco_code.csv')"
   ]
  },
  {
   "cell_type": "code",
   "execution_count": 43,
   "id": "96dc4fcf",
   "metadata": {},
   "outputs": [],
   "source": [
    "df_opening.columns = ['opening', 'opening_name', 'formal_opening_moves']\n",
    "df_chess = pd.merge(df_chess, df_opening, on = 'opening', how = 'left')"
   ]
  },
  {
   "cell_type": "code",
   "execution_count": 48,
   "id": "474b714d",
   "metadata": {},
   "outputs": [],
   "source": [
    "df_chess['opening_name'] = df_chess['opening_name'].apply(lambda x: 'unknown' if x !=x else x)\n",
    "df_chess['formal_opening_moves'] = df_chess['formal_opening_moves'].apply(lambda x: 'unknown' if x !=x else x)"
   ]
  },
  {
   "cell_type": "markdown",
   "id": "c0f6fefc",
   "metadata": {},
   "source": [
    "오프닝 코드가 없어서 결측치가 될 것 까지 모두 unknown으로 처리하였다."
   ]
  },
  {
   "cell_type": "markdown",
   "id": "e9cf68c4",
   "metadata": {},
   "source": [
    "## 수 분석하기? 이젠?"
   ]
  },
  {
   "cell_type": "markdown",
   "id": "2d172ed5",
   "metadata": {},
   "source": [
    "### 첫 수는?"
   ]
  },
  {
   "cell_type": "markdown",
   "id": "e6da8064",
   "metadata": {},
   "source": [
    "d4가 세냐, e4가 세냐 뭐가 대세냐 다른 요상한 오프닝도 좋다 등 유구한 체스계의 떡밥입니다.\n",
    "데이터로 한번 봅시다."
   ]
  },
  {
   "cell_type": "code",
   "execution_count": 51,
   "id": "eb4fe14e",
   "metadata": {},
   "outputs": [],
   "source": [
    "df_chess['first_move'] = df_chess['play_record'].apply(lambda x: x[0])"
   ]
  },
  {
   "cell_type": "code",
   "execution_count": 59,
   "id": "9a5cfc33",
   "metadata": {},
   "outputs": [
    {
     "data": {
      "text/plain": [
       "array(['d4', 'e4', '0-1', 'Nf3', 'c4', 'b3', 'g3', 'e3', 'f3', 'Nh3',\n",
       "       'Bf4', 'Ke2', 'a4', 'd3', 'a3', 'b4', 'f4', 'h4', 'Nc3', 'c3',\n",
       "       'g4', 'h3', '1-0', 'Bg5', 'Be2', 'exd5', 'Be3', 'd5', 'Na3',\n",
       "       'Qh4+', 'Bf5', 'e5', 'Nf6', 'c6', '1/2-1/2', 'Rg1', 'Ng5', 'O-O',\n",
       "       'Bd2', 'O-O-O', 'e6', 'Bd3', 'b6', 'Bxb4', 'Bb6', 'Bd6', 'Nc6',\n",
       "       'Qe7', 'c5', 'Qe5+', 'Ne4', 'Bc4', 'Bg7', 'exd4', 'Nd4', 'Bxc3+',\n",
       "       'f5', 'g6', 'a6', 'Ne2', 'Nd2', 'Bb4+', 'Be7', 'dxe4', 'dxe5',\n",
       "       'Bb4', 'exf4', 'Qc1', 'dxc5', 'cxd5', 'Nfe3', 'Nbc3', 'Bg4', 'Kf2',\n",
       "       'Ncd4', 'Nac3', 'Nhg3', 'dxc3', 'Bg6', 'Nxc6', 'Ke1', 'Bc5'],\n",
       "      dtype=object)"
      ]
     },
     "execution_count": 59,
     "metadata": {},
     "output_type": "execute_result"
    }
   ],
   "source": [
    "df_chess.first_move.unique()"
   ]
  },
  {
   "cell_type": "markdown",
   "id": "3d204432",
   "metadata": {},
   "source": [
    "### Warning! 무언가 이상합니다."
   ]
  },
  {
   "cell_type": "markdown",
   "id": "aebe9ec5",
   "metadata": {},
   "source": [
    "엥, 첫 수가 될 수 없는 것이 보입니다. 뭐가 문제일까요?"
   ]
  },
  {
   "cell_type": "code",
   "execution_count": 67,
   "id": "32afcb78",
   "metadata": {},
   "outputs": [
    {
     "data": {
      "text/html": [
       "<div>\n",
       "<style scoped>\n",
       "    .dataframe tbody tr th:only-of-type {\n",
       "        vertical-align: middle;\n",
       "    }\n",
       "\n",
       "    .dataframe tbody tr th {\n",
       "        vertical-align: top;\n",
       "    }\n",
       "\n",
       "    .dataframe thead th {\n",
       "        text-align: right;\n",
       "    }\n",
       "</style>\n",
       "<table border=\"1\" class=\"dataframe\">\n",
       "  <thead>\n",
       "    <tr style=\"text-align: right;\">\n",
       "      <th></th>\n",
       "      <th>white_rating</th>\n",
       "      <th>black_rating</th>\n",
       "      <th>white_result</th>\n",
       "      <th>time_class</th>\n",
       "      <th>time_control</th>\n",
       "      <th>pgn</th>\n",
       "      <th>white_grade</th>\n",
       "      <th>black_grade</th>\n",
       "      <th>opening</th>\n",
       "      <th>play_record</th>\n",
       "      <th>opening_name</th>\n",
       "      <th>formal_opening_moves</th>\n",
       "      <th>first_move</th>\n",
       "      <th>event_name</th>\n",
       "    </tr>\n",
       "  </thead>\n",
       "  <tbody>\n",
       "    <tr>\n",
       "      <th>11867</th>\n",
       "      <td>1154</td>\n",
       "      <td>1409</td>\n",
       "      <td>resigned</td>\n",
       "      <td>daily</td>\n",
       "      <td>1/259200</td>\n",
       "      <td>[Event \"2020 CHESS DURING QUARENTEEN - Round 3...</td>\n",
       "      <td>4</td>\n",
       "      <td>5</td>\n",
       "      <td>C55</td>\n",
       "      <td>[O-O, a6, a3, b5, Ba2, Bc5, b4, Bb6, c3, O-O, ...</td>\n",
       "      <td>Two Knights Defense</td>\n",
       "      <td>1 e4 e5 2 Nf3 Nc6 3 Bc4 Nf6</td>\n",
       "      <td>O-O</td>\n",
       "      <td>[Event \"2020 CHESS DURING QUARENTEEN - Round 3\"]</td>\n",
       "    </tr>\n",
       "    <tr>\n",
       "      <th>37565</th>\n",
       "      <td>709</td>\n",
       "      <td>388</td>\n",
       "      <td>checkmated</td>\n",
       "      <td>rapid</td>\n",
       "      <td>600</td>\n",
       "      <td>[Event \"Live Chess\"]\\n[Site \"Chess.com\"]\\n[Dat...</td>\n",
       "      <td>2</td>\n",
       "      <td>1</td>\n",
       "      <td>0</td>\n",
       "      <td>[O-O, e5, c4, b6, Qb3, Bb7, Qb5, Qg5, f4, Qxg2...</td>\n",
       "      <td>unknown</td>\n",
       "      <td>unknown</td>\n",
       "      <td>O-O</td>\n",
       "      <td>[Event \"Live Chess\"]</td>\n",
       "    </tr>\n",
       "    <tr>\n",
       "      <th>37566</th>\n",
       "      <td>709</td>\n",
       "      <td>388</td>\n",
       "      <td>checkmated</td>\n",
       "      <td>rapid</td>\n",
       "      <td>600</td>\n",
       "      <td>[Event \"Live Chess\"]\\n[Site \"Chess.com\"]\\n[Dat...</td>\n",
       "      <td>2</td>\n",
       "      <td>1</td>\n",
       "      <td>0</td>\n",
       "      <td>[O-O, e6, d4, b6, Qd3, Bb7, g3, Qg5, Qc3, Qd5,...</td>\n",
       "      <td>unknown</td>\n",
       "      <td>unknown</td>\n",
       "      <td>O-O</td>\n",
       "      <td>[Event \"Live Chess\"]</td>\n",
       "    </tr>\n",
       "    <tr>\n",
       "      <th>37567</th>\n",
       "      <td>709</td>\n",
       "      <td>388</td>\n",
       "      <td>win</td>\n",
       "      <td>rapid</td>\n",
       "      <td>600</td>\n",
       "      <td>[Event \"Live Chess\"]\\n[Site \"Chess.com\"]\\n[Dat...</td>\n",
       "      <td>2</td>\n",
       "      <td>1</td>\n",
       "      <td>0</td>\n",
       "      <td>[O-O, e5, d4, b6, dxe5, Bb7, g3, Qg5, f3, Qxe5...</td>\n",
       "      <td>unknown</td>\n",
       "      <td>unknown</td>\n",
       "      <td>O-O</td>\n",
       "      <td>[Event \"Live Chess\"]</td>\n",
       "    </tr>\n",
       "  </tbody>\n",
       "</table>\n",
       "</div>"
      ],
      "text/plain": [
       "       white_rating  black_rating white_result time_class time_control  \\\n",
       "11867          1154          1409     resigned      daily     1/259200   \n",
       "37565           709           388   checkmated      rapid          600   \n",
       "37566           709           388   checkmated      rapid          600   \n",
       "37567           709           388          win      rapid          600   \n",
       "\n",
       "                                                     pgn  white_grade  \\\n",
       "11867  [Event \"2020 CHESS DURING QUARENTEEN - Round 3...            4   \n",
       "37565  [Event \"Live Chess\"]\\n[Site \"Chess.com\"]\\n[Dat...            2   \n",
       "37566  [Event \"Live Chess\"]\\n[Site \"Chess.com\"]\\n[Dat...            2   \n",
       "37567  [Event \"Live Chess\"]\\n[Site \"Chess.com\"]\\n[Dat...            2   \n",
       "\n",
       "       black_grade opening                                        play_record  \\\n",
       "11867            5     C55  [O-O, a6, a3, b5, Ba2, Bc5, b4, Bb6, c3, O-O, ...   \n",
       "37565            1       0  [O-O, e5, c4, b6, Qb3, Bb7, Qb5, Qg5, f4, Qxg2...   \n",
       "37566            1       0  [O-O, e6, d4, b6, Qd3, Bb7, g3, Qg5, Qc3, Qd5,...   \n",
       "37567            1       0  [O-O, e5, d4, b6, dxe5, Bb7, g3, Qg5, f3, Qxe5...   \n",
       "\n",
       "              opening_name         formal_opening_moves first_move  \\\n",
       "11867  Two Knights Defense  1 e4 e5 2 Nf3 Nc6 3 Bc4 Nf6        O-O   \n",
       "37565              unknown                      unknown        O-O   \n",
       "37566              unknown                      unknown        O-O   \n",
       "37567              unknown                      unknown        O-O   \n",
       "\n",
       "                                             event_name  \n",
       "11867  [Event \"2020 CHESS DURING QUARENTEEN - Round 3\"]  \n",
       "37565                              [Event \"Live Chess\"]  \n",
       "37566                              [Event \"Live Chess\"]  \n",
       "37567                              [Event \"Live Chess\"]  "
      ]
     },
     "execution_count": 67,
     "metadata": {},
     "output_type": "execute_result"
    }
   ],
   "source": [
    "df_chess.loc[df_chess['first_move']]"
   ]
  },
  {
   "cell_type": "markdown",
   "id": "d7ae4a07",
   "metadata": {},
   "source": [
    "특정 이벤트 대국들은 중간에서 시작하는 것들이 있나 봅니다. 첫 수부터 보는 것이 중요하므로 올바르지 않은 것들은 제외해봅시다."
   ]
  },
  {
   "cell_type": "markdown",
   "id": "b41b97ef",
   "metadata": {},
   "source": [
    "체스의 첫 수는 20개만 가능합니다."
   ]
  },
  {
   "cell_type": "code",
   "execution_count": 68,
   "id": "d8f8e537",
   "metadata": {},
   "outputs": [],
   "source": [
    "first_move_list = ['f3', 'a4', 'h4', 'h3', 'Na3', 'Nh3', 'a3', 'c3', 'e3', 'd3', 'g4',\n",
    "                  'f4', 'Nc3', 'b4', 'b3', 'g3', 'c4', 'Nf3', 'e4', 'd4']"
   ]
  },
  {
   "cell_type": "code",
   "execution_count": 69,
   "id": "488cbd1e",
   "metadata": {},
   "outputs": [
    {
     "data": {
      "text/plain": [
       "20"
      ]
     },
     "execution_count": 69,
     "metadata": {},
     "output_type": "execute_result"
    }
   ],
   "source": [
    "len(first_move_list)"
   ]
  },
  {
   "cell_type": "code",
   "execution_count": 70,
   "id": "d437f024",
   "metadata": {},
   "outputs": [],
   "source": [
    "df_condi = df_chess.first_move.apply(lambda x: True if x in first_move_list else False)\n",
    "df_chess = df_chess.loc[df_condi]"
   ]
  },
  {
   "cell_type": "code",
   "execution_count": 72,
   "id": "37573ffa",
   "metadata": {},
   "outputs": [
    {
     "data": {
      "text/plain": [
       "array(['d4', 'e4', 'Nf3', 'c4', 'b3', 'g3', 'e3', 'f3', 'Nh3', 'a4', 'd3',\n",
       "       'a3', 'b4', 'f4', 'h4', 'Nc3', 'c3', 'g4', 'h3', 'Na3'],\n",
       "      dtype=object)"
      ]
     },
     "execution_count": 72,
     "metadata": {},
     "output_type": "execute_result"
    }
   ],
   "source": [
    "df_chess.first_move.unique()"
   ]
  },
  {
   "cell_type": "markdown",
   "id": "d98209aa",
   "metadata": {},
   "source": [
    "우선 규칙상 말이 되는 20개의 수만이 남았습니다. "
   ]
  },
  {
   "cell_type": "markdown",
   "id": "ca6b0ea4",
   "metadata": {},
   "source": [
    "## 다시 첫 수 보기"
   ]
  },
  {
   "cell_type": "code",
   "execution_count": 80,
   "id": "17d1a359",
   "metadata": {},
   "outputs": [
    {
     "data": {
      "image/png": "[encoded data removed]",
      "text/plain": [
       "<Figure size 432x288 with 1 Axes>"
      ]
     },
     "metadata": {
      "needs_background": "light"
     },
     "output_type": "display_data"
    }
   ],
   "source": [
    "sns.countplot(x = 'white_grade', hue = 'first_move', data = df_chess)\n",
    "plt.legend(loc = 'center right', bbox_to_anchor=(1.3, 0.5))\n",
    "plt.show()"
   ]
  },
  {
   "cell_type": "markdown",
   "id": "77630785",
   "metadata": {},
   "source": [
    "이거보다는 원그래프를 보는 것이 더 좋아보인다."
   ]
  },
  {
   "cell_type": "markdown",
   "id": "73127121",
   "metadata": {},
   "source": [
    "### e4 vs d4, 유구한 떡밥"
   ]
  },
  {
   "cell_type": "markdown",
   "id": "9bd29ee9",
   "metadata": {},
   "source": [
    "유규한 떡밥을 풀어보자"
   ]
  },
  {
   "cell_type": "code",
   "execution_count": 82,
   "id": "a45286aa",
   "metadata": {},
   "outputs": [],
   "source": [
    "df_e4d4_condi = df_chess.first_move.apply(lambda x: True if x in ['e4', 'd4'] else False)\n",
    "df_e4d4 = df_chess.loc[df_e4d4_condi]"
   ]
  },
  {
   "cell_type": "markdown",
   "id": "9419badf",
   "metadata": {},
   "source": [
    "e4, d4의 비율은 각 백의 레이팅 등급에 따라 얼마나 다를까? "
   ]
  }
 ],
 "metadata": {
  "kernelspec": {
   "display_name": "Python 3",
   "language": "python",
   "name": "python3"
  },
  "language_info": {
   "codemirror_mode": {
    "name": "ipython",
    "version": 3
   },
   "file_extension": ".py",
   "mimetype": "text/x-python",
   "name": "python",
   "nbconvert_exporter": "python",
   "pygments_lexer": "ipython3",
   "version": "3.8.8"
  }
 },
 "nbformat": 4,
 "nbformat_minor": 5
}
