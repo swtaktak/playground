{
 "cells": [
  {
   "cell_type": "markdown",
   "id": "43713998",
   "metadata": {},
   "source": [
    "# RNN 사용하기"
   ]
  },
  {
   "cell_type": "markdown",
   "id": "c222e5f3",
   "metadata": {},
   "source": [
    "쉽지는 않지만, RNN을 사용해보기로 하자."
   ]
  },
  {
   "cell_type": "code",
   "execution_count": 1,
   "id": "baa1e2e2",
   "metadata": {},
   "outputs": [],
   "source": [
    "import numpy as np\n",
    "import pandas as pd"
   ]
  },
  {
   "cell_type": "code",
   "execution_count": 2,
   "id": "46d797cd",
   "metadata": {},
   "outputs": [],
   "source": [
    "df = pd.read_csv('C:/Users/USER/Desktop/playground/chess_play/chess_rating_pred_dataset.csv')"
   ]
  },
  {
   "cell_type": "markdown",
   "id": "203df3c2",
   "metadata": {},
   "source": [
    "앞에서 같은 등급의 체스 경기, 블리츠 300초 경기에 한정, 최대 70수 까지만 보고 레이팅을 맞히기로 결정하였다.\n",
    "해당 데이터 셋을 바탕으로 예측을 해보자."
   ]
  },
  {
   "cell_type": "markdown",
   "id": "9f1af368",
   "metadata": {},
   "source": [
    "앞에서 했던 가중치나 유사도 기반의 문제점은\n",
    "1) 순서에 대한 정보 무시\n",
    "2) 체스 수라는 것은 상황에 따라 가중치가 다른데, 단순히 수가 많이 등장했다고 가중치를 부과할 수 없음"
   ]
  },
  {
   "cell_type": "markdown",
   "id": "6ee1d2cb",
   "metadata": {},
   "source": [
    "따라서 순서를 반영하는 RNN을 사용해야 한다. 여기서 수의 중요도보다는 수 자체를 사용해야 하므로, 벡터화 방법도 달라져야 한다."
   ]
  },
  {
   "cell_type": "code",
   "execution_count": null,
   "id": "08660b79",
   "metadata": {},
   "outputs": [],
   "source": []
  }
 ],
 "metadata": {
  "kernelspec": {
   "display_name": "Python 3",
   "language": "python",
   "name": "python3"
  },
  "language_info": {
   "codemirror_mode": {
    "name": "ipython",
    "version": 3
   },
   "file_extension": ".py",
   "mimetype": "text/x-python",
   "name": "python",
   "nbconvert_exporter": "python",
   "pygments_lexer": "ipython3",
   "version": "3.8.8"
  }
 },
 "nbformat": 4,
 "nbformat_minor": 5
}
