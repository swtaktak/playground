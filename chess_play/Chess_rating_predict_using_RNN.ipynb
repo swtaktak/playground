{
 "cells": [
  {
   "cell_type": "markdown",
   "id": "7b926736",
   "metadata": {},
   "source": [
    "# RNN 사용하기"
   ]
  },
  {
   "cell_type": "markdown",
   "id": "8ef7a9d5",
   "metadata": {},
   "source": [
    "쉽지는 않지만, RNN을 사용해보기로 하자."
   ]
  },
  {
   "cell_type": "code",
   "execution_count": 1,
   "id": "89e84bfb",
   "metadata": {},
   "outputs": [],
   "source": [
    "import numpy as np\n",
    "import pandas as pd"
   ]
  },
  {
   "cell_type": "code",
   "execution_count": 2,
   "id": "3ca35350",
   "metadata": {},
   "outputs": [],
   "source": [
    "df = pd.read_csv('C:/Users/USER/Desktop/playground/chess_play/chess_rating_pred_dataset.csv')"
   ]
  },
  {
   "cell_type": "markdown",
   "id": "45fdb8ea",
   "metadata": {},
   "source": [
    "앞에서 같은 등급의 체스 경기, 블리츠 300초 경기에 한정, 최대 70수 까지만 보고 레이팅을 맞히기로 결정하였다.\n",
    "해당 데이터 셋을 바탕으로 예측을 해보자."
   ]
  },
  {
   "cell_type": "markdown",
   "id": "430b34ad",
   "metadata": {},
   "source": [
    "앞에서 했던 가중치나 유사도 기반의 문제점은\n",
    "1) 순서에 대한 정보 무시\n",
    "2) 체스 수라는 것은 상황에 따라 가중치가 다른데, 단순히 수가 많이 등장했다고 가중치를 부과할 수 없음"
   ]
  },
  {
   "cell_type": "markdown",
   "id": "12a54c4b",
   "metadata": {},
   "source": [
    "따라서 순서를 반영하는 RNN을 사용해야 한다. 여기서 수의 중요도보다는 수 자체를 사용해야 하므로, 벡터화 방법도 달라져야 한다."
   ]
  },
  {
   "cell_type": "markdown",
   "id": "56dd219f",
   "metadata": {},
   "source": [
    "## 학습 데이터 만들기, 벡터화 방법"
   ]
  },
  {
   "cell_type": "markdown",
   "id": "3e714669",
   "metadata": {},
   "source": [
    "우선 가장 큰 문제는 리스트가 지금 문자열로 저장되어 버렸다. 이를 해소하자"
   ]
  },
  {
   "cell_type": "code",
   "execution_count": 3,
   "id": "8115d944",
   "metadata": {},
   "outputs": [],
   "source": [
    "df['chess_string'] = df.chess_string.apply(lambda x: eval(x))"
   ]
  },
  {
   "cell_type": "markdown",
   "id": "67b857f6",
   "metadata": {},
   "source": [
    "그리고, word2vec을 해야 할 것이다."
   ]
  },
  {
   "cell_type": "code",
   "execution_count": 4,
   "id": "f1ffeb3c",
   "metadata": {},
   "outputs": [],
   "source": [
    "from gensim.models.word2vec import Word2Vec"
   ]
  },
  {
   "cell_type": "code",
   "execution_count": 5,
   "id": "8a112de8",
   "metadata": {},
   "outputs": [],
   "source": [
    "from sklearn.model_selection import train_test_split\n",
    "X = df['chess_string']\n",
    "y = df['grade']\n",
    "\n",
    "X_train, X_test, y_train, y_test = train_test_split(X, y, test_size = 0.15, random_state = 42, stratify = y)"
   ]
  },
  {
   "cell_type": "markdown",
   "id": "d030e92e",
   "metadata": {},
   "source": [
    "window는 4로 했다. 너- 나 - 너- 나 이렇게 4수를 보면 대응까지를 고려하므로 4수가 적당하다."
   ]
  },
  {
   "cell_type": "code",
   "execution_count": 6,
   "id": "c7d8893e",
   "metadata": {},
   "outputs": [],
   "source": [
    "model = Word2Vec(sentences=X_train, size=10, window=4, min_count=0, sg=0)"
   ]
  },
  {
   "cell_type": "code",
   "execution_count": 7,
   "id": "5fbad302",
   "metadata": {
    "scrolled": true
   },
   "outputs": [
    {
     "data": {
      "text/plain": [
       "[('d4', 0.9681786298751831),\n",
       " ('Nce7', 0.9479725956916809),\n",
       " ('Nf3', 0.9387083649635315),\n",
       " ('Nc3', 0.9037632346153259),\n",
       " ('e5', 0.8928003907203674),\n",
       " ('Bc4', 0.8917235136032104),\n",
       " ('d3', 0.8751618266105652),\n",
       " ('Nf6', 0.8522761464118958),\n",
       " ('d5', 0.8508899211883545),\n",
       " ('e6', 0.8503772020339966)]"
      ]
     },
     "execution_count": 7,
     "metadata": {},
     "output_type": "execute_result"
    }
   ],
   "source": [
    "model.wv.most_similar(\"e4\")"
   ]
  },
  {
   "cell_type": "markdown",
   "id": "8e0ba04e",
   "metadata": {},
   "source": [
    "상당히 유의미한 결과가보인다. 물론 완벽하진 않지만 e4의 가장 유사한 수로 d4와 Nf3를 뽑았다는 것만으로도, w2v의 위력이 보인다."
   ]
  },
  {
   "cell_type": "code",
   "execution_count": 8,
   "id": "ebfcfad6",
   "metadata": {
    "scrolled": true
   },
   "outputs": [
    {
     "name": "stderr",
     "output_type": "stream",
     "text": [
      "<ipython-input-8-b771cad6c9b1>:1: DeprecationWarning: Call to deprecated `__getitem__` (Method will be removed in 4.0.0, use self.wv.__getitem__() instead).\n",
      "  model['e4']\n"
     ]
    },
    {
     "data": {
      "text/plain": [
       "array([ 0.63632035,  0.585608  , -0.15454559,  0.82870847, -1.1557916 ,\n",
       "        1.1156863 , -6.4622827 , -1.2580993 , -0.69398916, -1.6452929 ],\n",
       "      dtype=float32)"
      ]
     },
     "execution_count": 8,
     "metadata": {},
     "output_type": "execute_result"
    }
   ],
   "source": [
    "model['e4']"
   ]
  },
  {
   "cell_type": "code",
   "execution_count": 9,
   "id": "31e0251f",
   "metadata": {},
   "outputs": [
    {
     "data": {
      "text/plain": [
       "[('O-O', 0.9590904712677002),\n",
       " ('Nbd7', 0.8902510404586792),\n",
       " ('h3', 0.8853350877761841),\n",
       " ('Ne7', 0.8754733204841614),\n",
       " ('Bg5', 0.8745657205581665),\n",
       " ('Nbd2', 0.8723241090774536),\n",
       " ('Ngf6', 0.8618440628051758),\n",
       " ('Nge2', 0.8575639724731445),\n",
       " ('Qd2', 0.8548845052719116),\n",
       " ('Be7', 0.8544213771820068)]"
      ]
     },
     "execution_count": 9,
     "metadata": {},
     "output_type": "execute_result"
    }
   ],
   "source": [
    "model.wv.most_similar(\"O-O-O\")"
   ]
  },
  {
   "cell_type": "markdown",
   "id": "6d7f7a39",
   "metadata": {},
   "source": [
    "캐슬링에 대해서도 캐슬링 길을열거나 킹사이드/퀸사이드의 유사성을 보여주고 있어서 학습이 잘 된 것처럼 보인다."
   ]
  },
  {
   "cell_type": "markdown",
   "id": "7584ea37",
   "metadata": {},
   "source": [
    "train에 없는 수가 등장할 수도 있는데, 이는 일관적으로 통일하자."
   ]
  },
  {
   "cell_type": "code",
   "execution_count": 10,
   "id": "4d6a156b",
   "metadata": {},
   "outputs": [],
   "source": [
    "def get_word2vec_seq(x):\n",
    "    answer_list = []\n",
    "    for c in x:\n",
    "        try:\n",
    "            answer_list.append(model[c])\n",
    "        except:\n",
    "            answer_list.append([0.5] * 10)\n",
    "    if len(answer_list) < 70:\n",
    "        while len(answer_list) < 70:\n",
    "            answer_list.append([0] * 10)\n",
    "    return answer_list"
   ]
  },
  {
   "cell_type": "code",
   "execution_count": 11,
   "id": "1e168968",
   "metadata": {},
   "outputs": [
    {
     "name": "stderr",
     "output_type": "stream",
     "text": [
      "<ipython-input-10-32b71a9b334d>:5: DeprecationWarning: Call to deprecated `__getitem__` (Method will be removed in 4.0.0, use self.wv.__getitem__() instead).\n",
      "  answer_list.append(model[c])\n"
     ]
    }
   ],
   "source": [
    "X_train_w2v = X_train.apply(lambda x : get_word2vec_seq(x))\n",
    "X_test_w2v = X_test.apply(lambda x : get_word2vec_seq(x))"
   ]
  },
  {
   "cell_type": "code",
   "execution_count": 12,
   "id": "c5972026",
   "metadata": {
    "scrolled": true
   },
   "outputs": [
    {
     "data": {
      "text/plain": [
       "2761    [[-2.3914945, 2.4819613, 1.1999704, 1.04758, -...\n",
       "5099    [[0.63632035, 0.585608, -0.15454559, 0.8287084...\n",
       "2322    [[0.63632035, 0.585608, -0.15454559, 0.8287084...\n",
       "3118    [[0.63632035, 0.585608, -0.15454559, 0.8287084...\n",
       "2203    [[0.63632035, 0.585608, -0.15454559, 0.8287084...\n",
       "                              ...                        \n",
       "94      [[0.63632035, 0.585608, -0.15454559, 0.8287084...\n",
       "4104    [[0.63632035, 0.585608, -0.15454559, 0.8287084...\n",
       "6002    [[-0.3204533, 1.0069542, -0.45866463, 1.566056...\n",
       "7380    [[-0.325715, 0.9255762, 1.1859684, 1.9020668, ...\n",
       "6281    [[-0.3204533, 1.0069542, -0.45866463, 1.566056...\n",
       "Name: chess_string, Length: 6473, dtype: object"
      ]
     },
     "execution_count": 12,
     "metadata": {},
     "output_type": "execute_result"
    }
   ],
   "source": [
    "X_train_w2v"
   ]
  },
  {
   "cell_type": "markdown",
   "id": "e80a1e4c",
   "metadata": {},
   "source": [
    "## pytorch로 rnn 학습하기"
   ]
  },
  {
   "cell_type": "code",
   "execution_count": 14,
   "id": "9be4c3aa",
   "metadata": {},
   "outputs": [],
   "source": [
    "import torch\n",
    "import torch.nn as nn"
   ]
  },
  {
   "cell_type": "code",
   "execution_count": null,
   "id": "85ab6904",
   "metadata": {},
   "outputs": [],
   "source": []
  }
 ],
 "metadata": {
  "kernelspec": {
   "display_name": "Python 3",
   "language": "python",
   "name": "python3"
  },
  "language_info": {
   "codemirror_mode": {
    "name": "ipython",
    "version": 3
   },
   "file_extension": ".py",
   "mimetype": "text/x-python",
   "name": "python",
   "nbconvert_exporter": "python",
   "pygments_lexer": "ipython3",
   "version": "3.8.8"
  }
 },
 "nbformat": 4,
 "nbformat_minor": 5
}
