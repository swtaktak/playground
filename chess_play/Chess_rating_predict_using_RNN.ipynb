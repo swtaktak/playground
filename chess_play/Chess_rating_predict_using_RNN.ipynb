{
 "cells": [
  {
   "cell_type": "markdown",
   "id": "7b926736",
   "metadata": {},
   "source": [
    "# RNN 사용하기"
   ]
  },
  {
   "cell_type": "markdown",
   "id": "8ef7a9d5",
   "metadata": {},
   "source": [
    "쉽지는 않지만, RNN을 사용해보기로 하자."
   ]
  },
  {
   "cell_type": "code",
   "execution_count": 1,
   "id": "89e84bfb",
   "metadata": {},
   "outputs": [],
   "source": [
    "import numpy as np\n",
    "import pandas as pd"
   ]
  },
  {
   "cell_type": "code",
   "execution_count": 2,
   "id": "3ca35350",
   "metadata": {},
   "outputs": [],
   "source": [
    "df = pd.read_csv('C:/Users/USER/Desktop/playground/chess_play/chess_rating_pred_dataset.csv')"
   ]
  },
  {
   "cell_type": "markdown",
   "id": "45fdb8ea",
   "metadata": {},
   "source": [
    "앞에서 같은 등급의 체스 경기, 블리츠 300초 경기에 한정, 최대 70수 까지만 보고 레이팅을 맞히기로 결정하였다.\n",
    "해당 데이터 셋을 바탕으로 예측을 해보자."
   ]
  },
  {
   "cell_type": "markdown",
   "id": "430b34ad",
   "metadata": {},
   "source": [
    "앞에서 했던 가중치나 유사도 기반의 문제점은\n",
    "1) 순서에 대한 정보 무시\n",
    "2) 체스 수라는 것은 상황에 따라 가중치가 다른데, 단순히 수가 많이 등장했다고 가중치를 부과할 수 없음"
   ]
  },
  {
   "cell_type": "markdown",
   "id": "12a54c4b",
   "metadata": {},
   "source": [
    "따라서 순서를 반영하는 RNN을 사용해야 한다. 여기서 수의 중요도보다는 수 자체를 사용해야 하므로, 벡터화 방법도 달라져야 한다."
   ]
  },
  {
   "cell_type": "markdown",
   "id": "56dd219f",
   "metadata": {},
   "source": [
    "## 학습 데이터 만들기, 벡터화 방법"
   ]
  },
  {
   "cell_type": "markdown",
   "id": "3e714669",
   "metadata": {},
   "source": [
    "우선 가장 큰 문제는 리스트가 지금 문자열로 저장되어 버렸다. 이를 해소하자"
   ]
  },
  {
   "cell_type": "code",
   "execution_count": 3,
   "id": "8115d944",
   "metadata": {},
   "outputs": [],
   "source": [
    "df['chess_string'] = df.chess_string.apply(lambda x: eval(x))"
   ]
  },
  {
   "cell_type": "code",
   "execution_count": null,
   "id": "f40c5ded",
   "metadata": {},
   "outputs": [],
   "source": [
    "df['chess_s']"
   ]
  },
  {
   "cell_type": "markdown",
   "id": "67b857f6",
   "metadata": {},
   "source": [
    "그리고, word2vec을 해야 할 것이다."
   ]
  },
  {
   "cell_type": "code",
   "execution_count": 4,
   "id": "f1ffeb3c",
   "metadata": {},
   "outputs": [],
   "source": [
    "from gensim.models.word2vec import Word2Vec"
   ]
  },
  {
   "cell_type": "code",
   "execution_count": 5,
   "id": "8a112de8",
   "metadata": {},
   "outputs": [],
   "source": [
    "from sklearn.model_selection import train_test_split\n",
    "X = df['chess_string']\n",
    "y = df['grade']\n",
    "\n",
    "X_train, X_test, y_train, y_test = train_test_split(X, y, test_size = 0.15, random_state = 42, stratify = y)"
   ]
  },
  {
   "cell_type": "markdown",
   "id": "d030e92e",
   "metadata": {},
   "source": [
    "window는 4로 했다. 너- 나 - 너- 나 이렇게 4수를 보면 대응까지를 고려하므로 4수가 적당하다."
   ]
  },
  {
   "cell_type": "code",
   "execution_count": 52,
   "id": "c7d8893e",
   "metadata": {},
   "outputs": [],
   "source": [
    "model = Word2Vec(sentences=X_train, size=10, window=4, min_count=0, sg=0)"
   ]
  },
  {
   "cell_type": "code",
   "execution_count": 53,
   "id": "5fbad302",
   "metadata": {
    "scrolled": true
   },
   "outputs": [
    {
     "data": {
      "text/plain": [
       "[('d4', 0.9692720174789429),\n",
       " ('Nf3', 0.9569461941719055),\n",
       " ('Nc3', 0.9267320036888123),\n",
       " ('Bc4', 0.8996136784553528),\n",
       " ('d3', 0.8906040191650391),\n",
       " ('e5', 0.8897177577018738),\n",
       " ('Nf6', 0.8830223679542542),\n",
       " ('Nce7', 0.8805091977119446),\n",
       " ('d5', 0.8716991543769836),\n",
       " ('Nc6', 0.8695103526115417)]"
      ]
     },
     "execution_count": 53,
     "metadata": {},
     "output_type": "execute_result"
    }
   ],
   "source": [
    "model.wv.most_similar(\"e4\")"
   ]
  },
  {
   "cell_type": "markdown",
   "id": "8e0ba04e",
   "metadata": {},
   "source": [
    "상당히 유의미한 결과가보인다. 물론 완벽하진 않지만 e4의 가장 유사한 수로 d4와 Nf3를 뽑았다는 것만으로도, w2v의 위력이 보인다."
   ]
  },
  {
   "cell_type": "code",
   "execution_count": 54,
   "id": "ebfcfad6",
   "metadata": {
    "scrolled": true
   },
   "outputs": [
    {
     "name": "stderr",
     "output_type": "stream",
     "text": [
      "<ipython-input-54-b771cad6c9b1>:1: DeprecationWarning: Call to deprecated `__getitem__` (Method will be removed in 4.0.0, use self.wv.__getitem__() instead).\n",
      "  model['e4']\n"
     ]
    },
    {
     "data": {
      "text/plain": [
       "array([ 1.6304363, -0.4004242, -2.859944 , -3.732466 , -2.814522 ,\n",
       "       -3.173032 , -1.4030678, -1.0641822,  2.4807205, -1.9324874],\n",
       "      dtype=float32)"
      ]
     },
     "execution_count": 54,
     "metadata": {},
     "output_type": "execute_result"
    }
   ],
   "source": [
    "model['e4']"
   ]
  },
  {
   "cell_type": "code",
   "execution_count": 67,
   "id": "31e0251f",
   "metadata": {},
   "outputs": [
    {
     "data": {
      "text/plain": [
       "[('O-O', 0.957873523235321),\n",
       " ('Nbd7', 0.9423598051071167),\n",
       " ('Be7', 0.9304890632629395),\n",
       " ('Ne7', 0.9200345277786255),\n",
       " ('Ngf6', 0.9086468815803528),\n",
       " ('Bg5', 0.9033535122871399),\n",
       " ('Qd7', 0.8693109750747681),\n",
       " ('Nf6', 0.8683937191963196),\n",
       " ('Nd7', 0.8642125129699707),\n",
       " ('h3', 0.8633211255073547)]"
      ]
     },
     "execution_count": 67,
     "metadata": {},
     "output_type": "execute_result"
    }
   ],
   "source": [
    "model.wv.most_similar(\"O-O-O\")"
   ]
  },
  {
   "cell_type": "markdown",
   "id": "6d7f7a39",
   "metadata": {},
   "source": [
    "캐슬링에 대해서도 캐슬링 길을열거나 킹사이드/퀸사이드의 유사성을 보여주고 있어서 학습이 잘 된 것처럼 보인다."
   ]
  },
  {
   "cell_type": "markdown",
   "id": "7584ea37",
   "metadata": {},
   "source": [
    "train에 없는 수가 등장할 수도 있는데, 이는 일관적으로 통일하자."
   ]
  },
  {
   "cell_type": "code",
   "execution_count": 68,
   "id": "4d6a156b",
   "metadata": {},
   "outputs": [],
   "source": [
    "def get_word2vec_seq(x):\n",
    "    answer_list = []\n",
    "    for c in x:\n",
    "        try:\n",
    "            answer_list.append(model[c])\n",
    "        except:\n",
    "            answer_list.append([0.5] * 10)\n",
    "    if len(answer_list) < 70:\n",
    "        while len(answer_list) < 70:\n",
    "            answer_list.append([0] * 10)\n",
    "    return answer_list"
   ]
  },
  {
   "cell_type": "code",
   "execution_count": 71,
   "id": "1e168968",
   "metadata": {},
   "outputs": [
    {
     "name": "stderr",
     "output_type": "stream",
     "text": [
      "<ipython-input-68-32b71a9b334d>:5: DeprecationWarning: Call to deprecated `__getitem__` (Method will be removed in 4.0.0, use self.wv.__getitem__() instead).\n",
      "  answer_list.append(model[c])\n"
     ]
    }
   ],
   "source": [
    "X_train_w2v = X_train.apply(lambda x : get_word2vec_seq(x))\n",
    "X_test_w2v = X_test.apply(lambda x : get_word2vec_seq(x))"
   ]
  },
  {
   "cell_type": "code",
   "execution_count": null,
   "id": "c5972026",
   "metadata": {},
   "outputs": [],
   "source": []
  }
 ],
 "metadata": {
  "kernelspec": {
   "display_name": "Python 3",
   "language": "python",
   "name": "python3"
  },
  "language_info": {
   "codemirror_mode": {
    "name": "ipython",
    "version": 3
   },
   "file_extension": ".py",
   "mimetype": "text/x-python",
   "name": "python",
   "nbconvert_exporter": "python",
   "pygments_lexer": "ipython3",
   "version": "3.8.8"
  }
 },
 "nbformat": 4,
 "nbformat_minor": 5
}
